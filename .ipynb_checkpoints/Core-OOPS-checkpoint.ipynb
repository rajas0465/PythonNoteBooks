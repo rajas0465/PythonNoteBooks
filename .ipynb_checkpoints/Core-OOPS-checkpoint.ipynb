{
 "cells": [
  {
   "cell_type": "markdown",
   "metadata": {},
   "source": [
    "# <font color='blue'> Table Of Contents </font>\n",
    "\n",
    "## <font color='blue'> Object Oriented Concepts </font>\n",
    "\n",
    "<font color='blue'>\n",
    "    \n",
    "* Class\n",
    "\n",
    "* Object\n",
    "\n",
    "* Methods \n",
    "    \n",
    "* Class and Instance variable\n",
    "\n",
    "* Inheritance\n",
    "\n",
    "* Method overriding\n",
    "    \n",
    "* Method overloading\n",
    "    \n",
    "* Composition\n",
    "\n",
    "* Abstraction\n",
    "    \n",
    "</font>\n",
    "\n",
    "\n",
    "## <font color='blue'> Practice exercise </font>"
   ]
  },
  {
   "cell_type": "markdown",
   "metadata": {},
   "source": [
    "## <font color='blue'> Object oriented Concepts in Python </font>\n",
    "\n",
    "In procedural programming the focus is on writing functions or procedures which operate on data.\n",
    "\n",
    "In object-oriented programming the focus is on the creation of objects which contain both data and functionality together. \n",
    "\n",
    "Usually, each object definition corresponds to some object or concept in the real world and the functions that operate on that object correspond to the ways real-world objects interact.\n",
    "\n",
    "In Python, every value is actually an object. Whether it be a dictionary, a list, or even an integer, they are all objects.\n"
   ]
  },
  {
   "cell_type": "code",
   "execution_count": 1,
   "metadata": {},
   "outputs": [
    {
     "name": "stdout",
     "output_type": "stream",
     "text": [
      "<class 'int'>\n",
      "<class 'str'>\n",
      "<class 'str'>\n"
     ]
    }
   ],
   "source": [
    "a_int = 5\n",
    "print(type(a_int))\n",
    "a_str = \"q\"\n",
    "a_int = \"A\"\n",
    "print(type(a_str))\n",
    "print(type(a_int))"
   ]
  },
  {
   "cell_type": "markdown",
   "metadata": {},
   "source": [
    "Programs manipulate those objects either by performing computation with them or by asking them to perform methods. \n",
    "\n",
    "To be more specific, we say that an object has a state and a collection of methods that it can perform. (More about methods below.) \n",
    "\n",
    "The state of an object represents those things that the object knows about itself. The state is stored in instance variables.\n",
    "\n",
    "A Class is like an object constructor, or a \"blueprint\" for creating objects.\n",
    "\n",
    "### <font color='blue'> User Defined Class </font>\n",
    "\n",
    "To create a class, use the keyword class:"
   ]
  },
  {
   "cell_type": "code",
   "execution_count": null,
   "metadata": {},
   "outputs": [],
   "source": [
    "class className:\n",
    "    def methodName:\n",
    "        statement1\n",
    "        statement2"
   ]
  },
  {
   "cell_type": "code",
   "execution_count": 6,
   "metadata": {},
   "outputs": [
    {
     "name": "stdout",
     "output_type": "stream",
     "text": [
      "<class '__main__.Point'>\n"
     ]
    }
   ],
   "source": [
    "class Point:\n",
    "    pass\n",
    "\n",
    "p = Point()\n",
    "print(type(p))"
   ]
  },
  {
   "cell_type": "markdown",
   "metadata": {},
   "source": [
    "### <font color='blue'> Object Instantiation </font>\n",
    "\n",
    "The way to instantiate an object of a class, say ```point_p``` & `point_q`, is as following:\n",
    "\n",
    "Now we can use the class named Point to create objects:"
   ]
  },
  {
   "cell_type": "code",
   "execution_count": 1,
   "metadata": {
    "run_control": {
     "marked": false
    }
   },
   "outputs": [
    {
     "name": "stdout",
     "output_type": "stream",
     "text": [
      "10\n",
      "20\n",
      "10\n",
      "20\n",
      "1896720448\n"
     ]
    }
   ],
   "source": [
    "class Point:\n",
    "    \"\"\" Point class for representing and manipulating x,y coordinates. \"\"\"\n",
    "    def __init__(self):\n",
    "        self.x = 10\n",
    "        self.y = 20\n",
    "        \n",
    "point_p = Point()         # Instantiate an object of type Point\n",
    "point_q = Point()         # and make a second point\n",
    "\n",
    "print(point_p.x)\n",
    "print(point_p.y)\n",
    "print(point_q.x)\n",
    "print(point_q.y)\n",
    "\n",
    "point_p.x = point_p.x + 10\n",
    "point_q.x = point_q.x + 20"
   ]
  },
  {
   "attachments": {
    "object_instantiation.PNG": {
     "image/png": "[encoded data removed]"
    }
   },
   "cell_type": "markdown",
   "metadata": {},
   "source": [
    "\n",
    "![object_instantiation.PNG](attachment:object_instantiation.PNG)\n",
    "\n",
    "\n",
    "The expression ```Point()``` when executed, does the following:\n",
    "\n",
    "1. Allocates memory for the object\n",
    "2. Invokes the ```Point``` constructor to initialize this memory.\n",
    "3. If ```Point``` does not explicitly define a constructor - ```__init__()``` - the compiler generates one for this purpose.\n",
    "4. Return a reference to the initialized memory, as ```point_p``` & `point_q`."
   ]
  },
  {
   "cell_type": "markdown",
   "metadata": {},
   "source": [
    "### <font color='blue'> __init__() </font>\n",
    "\n",
    "```__init__()``` is the standard name given to the constructor of any class in Python. \n",
    "\n",
    "If a class does not define ```__init__()```, the compiler generates a default version, that just initilaizes object attributes to their default type values.\n",
    "\n",
    "```__init__()``` can have arguments passed to it.\n",
    "\n",
    "In an inheritance hierarchy, the ```__init__()``` function of a subclass invokes the corresponding ```__init__()``` of its super class.\n",
    "\n",
    "```__init__()``` is a reserved method in python classes. It is called as a constructor in object oriented terminology. \n",
    "\n",
    "This method is called when an object is created from a class and it allows the class to initialize the attributes of the class.\n",
    "\n",
    "\n",
    "### <font color='blue'> Adding parameters to the constructor </font>\n",
    "\n",
    "We can make our class constructor more generally usable by putting extra parameters into the `__init__` method, as shown in the below example.\n",
    "\n",
    "This is a common thing to do in the` __init__` method for a class: \n",
    "\n",
    "* take in some parameters and save them as instance variables. \n",
    "\n",
    "Why is this useful? "
   ]
  },
  {
   "cell_type": "code",
   "execution_count": 2,
   "metadata": {},
   "outputs": [
    {
     "name": "stdout",
     "output_type": "stream",
     "text": [
      "Bruno\n",
      "10\n",
      "Julie\n",
      "20\n"
     ]
    }
   ],
   "source": [
    "class Pet:\n",
    "    # constructor        \n",
    "    def __init__(self, name, age):   \n",
    "        self.first_name = name\n",
    "        self.pet_age = age\n",
    "            \n",
    "my_pet1 = Pet(\"Bruno\", 10)  \n",
    "print(my_pet1.first_name)\n",
    "print(my_pet1.pet_age)\n",
    "my_pet2 = Pet(\"Julie\", 20)\n",
    "print(my_pet2.first_name)\n",
    "print(my_pet2.pet_age)\n"
   ]
  },
  {
   "cell_type": "markdown",
   "metadata": {},
   "source": [
    "When developing objects, it is quite common to add a constructor to an object to set up initial values for the object. It is relatively rare to need a destructor for an object."
   ]
  },
  {
   "cell_type": "markdown",
   "metadata": {},
   "source": [
    "### <font color='blue'>  Object Methods </font>"
   ]
  },
  {
   "cell_type": "markdown",
   "metadata": {},
   "source": [
    "A method that an object of a class can call is called an object method. <br> \n",
    "It is invoked for a specific instance (object) of a class.  <br>\n",
    "An object invokes these function(s).  <br>\n",
    "All the methods defined in class that have the first parameter as <b><i>self</b></i> are the object methods.  <br>\n",
    "Let’s add two simple methods to allow a point to give us information about its state. <br>\n",
    "The getX method, when invoked, will return the value of the x coordinate. <br>"
   ]
  },
  {
   "cell_type": "code",
   "execution_count": 1,
   "metadata": {},
   "outputs": [
    {
     "name": "stdout",
     "output_type": "stream",
     "text": [
      "30\n",
      "70\n"
     ]
    }
   ],
   "source": [
    "class Point:\n",
    "    \"\"\" Point class for representing and manipulating x,y coordinates. \"\"\"\n",
    "    def __init__(self, x, y):\n",
    "        self.num1 = x\n",
    "        self.num2 = y\n",
    "        \n",
    "    def getX(self):\n",
    "        return self.num1\n",
    "\n",
    "    def add(self):\n",
    "        return self.num1 + self.num2\n",
    "    \n",
    "    def sub(self):\n",
    "        return self.num1 -self.num2\n",
    "    def multilpy(self):\n",
    "        return self.num1 *self.num2\n",
    "        \n",
    "    def div(self):\n",
    "        if self.num2 != 0:\n",
    "            return self.num1 / self.num2\n",
    "            \n",
    "    def getY(self):\n",
    "        return 0\n",
    "        \n",
    "\n",
    "\n",
    "p = Point(10, 20)\n",
    "q = Point(30, 40)\n",
    "\n",
    "print(p.add())\n",
    "print(q.add())\n"
   ]
  },
  {
   "cell_type": "markdown",
   "metadata": {},
   "source": [
    "One thing to notice is that even though the getX method does not need any other parameter information to do its work, there is still one formal parameter, `self`. \n",
    "\n",
    "As we stated earlier, all methods defined in a class that operate on objects of that class will have `self` as their first parameter. \n",
    "\n",
    "Again, this serves as a reference to the object itself which in turn gives access to the state data inside the object.\n",
    "\n",
    "It does not have to be named self , you can call it whatever you like, but it has to be the first parameter of any method in the class."
   ]
  },
  {
   "cell_type": "markdown",
   "metadata": {},
   "source": [
    "Let's see how this works internally. <br>\n",
    "When we call a function p.add, Python internally does the following <i>Point.add(p)</i> <br>\n",
    "Since every thing in Python is an object, Python is calling a function of class and passes the object as the parameter.\n"
   ]
  },
  {
   "cell_type": "code",
   "execution_count": 11,
   "metadata": {},
   "outputs": [
    {
     "data": {
      "text/plain": [
       "30"
      ]
     },
     "execution_count": 11,
     "metadata": {},
     "output_type": "execute_result"
    }
   ],
   "source": [
    "Point.add(p)"
   ]
  },
  {
   "cell_type": "markdown",
   "metadata": {},
   "source": [
    "### <font color='blue'>  Access Modifiers </font>\n",
    "\n",
    "Let's see public, private, and protected variables in action. Execute the following snippet:"
   ]
  },
  {
   "cell_type": "code",
   "execution_count": null,
   "metadata": {},
   "outputs": [],
   "source": [
    "class Demo:\n",
    "    def __init__(self, nv, pv):\n",
    "      # normal variable\n",
    "        self.nv = nv\n",
    "      # private variable(not really)\n",
    "        self.__pv = pv\n",
    "        \n",
    "        self._prov = \"Protected variable\"\n",
    "\n",
    "sample = Demo('Normal variable', 'Private variable')\n",
    "\n",
    "# accessing *nv*\n",
    "print(sample.nv)\n",
    "\n",
    "# accessing *_prov*\n",
    "print(sample._prov)\n",
    "\n",
    "# accessing *__pv**\n",
    "print(sample.__pv)"
   ]
  },
  {
   "cell_type": "markdown",
   "metadata": {},
   "source": [
    "#### <font color='blue'> Name Mangling </font>\n",
    "<br>\n",
    "    As you have observed above, while accessing the <b><i>private</i></b> variable, we got an error.  <br>\n",
    "    In Python, with regard to access specifiers, the language makes a <b><i>recommendation</i></b> of using this protocol of <b><i>public</i></b>, <b><i>protected</i></b> and <b><i>private</i></b> specifiers. <br> \n",
    "    A programmer, however can access these without any hindrance. The language, does not restrict from doing so. <br> \n",
    "    The reason of <b><i>Attribute</i></b> error while accessing sample.__pv is that Python does the <b><i>name mangling</i></b>. Here is how it is accessible.\n"
   ]
  },
  {
   "cell_type": "code",
   "execution_count": 10,
   "metadata": {},
   "outputs": [
    {
     "data": {
      "text/plain": [
       "'Private variable'"
      ]
     },
     "execution_count": 10,
     "metadata": {},
     "output_type": "execute_result"
    }
   ],
   "source": [
    "sample._Demo__pv"
   ]
  },
  {
   "cell_type": "markdown",
   "metadata": {},
   "source": [
    "In Python, whenever a variable is declared with <b>__</b>, the language internally puts <b><i>_classname__</i></b> before the variable name.  <br>\n",
    "Name mangling is not a new concept, it is used to implement function overloading in C++.\n"
   ]
  },
  {
   "cell_type": "markdown",
   "metadata": {},
   "source": [
    "### <font color='red'>Words of caution</font>"
   ]
  },
  {
   "cell_type": "markdown",
   "metadata": {},
   "source": [
    "These access specifiers help in applying the principle of ***Encapsulation.*** These define as which all attributes or methods are is accessible and which are not.  \n",
    "\n",
    "In a language like C++, when a user defines these access modifiers, any access to private attributes or methods leads to an error at the compile time. And this provides a good safety net for any accidental access of private attributes or methods.  \n",
    "\n",
    "In Python , however, these ***specifiers are recommendation*** to treat an attribute or a method as a private or protected. The interpreter will not throw any error message in case a developers tries to breach this contract.  \n",
    "It is up-to the developer to be disciplined enough to respect this contract.  \n",
    "At the same time it is not possible to check this where there are many developers working together. "
   ]
  },
  {
   "cell_type": "code",
   "execution_count": 4,
   "metadata": {
    "scrolled": false
   },
   "outputs": [
    {
     "name": "stdout",
     "output_type": "stream",
     "text": [
      "Engine started\n",
      "A Honda Engine has started\n"
     ]
    },
    {
     "ename": "AttributeError",
     "evalue": "'Car' object has no attribute '__showData'",
     "output_type": "error",
     "traceback": [
      "\u001b[1;31m---------------------------------------------------------------------------\u001b[0m",
      "\u001b[1;31mAttributeError\u001b[0m                            Traceback (most recent call last)",
      "\u001b[1;32m<ipython-input-4-014c06e65b01>\u001b[0m in \u001b[0;36m<module>\u001b[1;34m\u001b[0m\n\u001b[0;32m     14\u001b[0m \u001b[0mcar_a\u001b[0m \u001b[1;33m=\u001b[0m \u001b[0mCar\u001b[0m\u001b[1;33m(\u001b[0m\u001b[1;33m)\u001b[0m\u001b[1;33m\u001b[0m\u001b[1;33m\u001b[0m\u001b[0m\n\u001b[0;32m     15\u001b[0m \u001b[0mcar_a\u001b[0m\u001b[1;33m.\u001b[0m\u001b[0m_show\u001b[0m\u001b[1;33m(\u001b[0m\u001b[1;33m)\u001b[0m\u001b[1;33m\u001b[0m\u001b[1;33m\u001b[0m\u001b[0m\n\u001b[1;32m---> 16\u001b[1;33m \u001b[0mcar_a\u001b[0m\u001b[1;33m.\u001b[0m\u001b[0m__showData\u001b[0m\u001b[1;33m(\u001b[0m\u001b[1;33m)\u001b[0m\u001b[1;33m\u001b[0m\u001b[1;33m\u001b[0m\u001b[0m\n\u001b[0m",
      "\u001b[1;31mAttributeError\u001b[0m: 'Car' object has no attribute '__showData'"
     ]
    }
   ],
   "source": [
    "class Car:\n",
    "    def __init__(self):\n",
    "        print (\"Engine started\")\n",
    "        self.name = \"Amaze\"\n",
    "        self.__make = \"Honda\"\n",
    "        self._model = 2014\n",
    "    \n",
    "    def _show(self):\n",
    "        print (\"A Honda Engine has started\")\n",
    "    \n",
    "    def __showData(self):\n",
    "        print (\"Amaze is on its way\")\n",
    "    \n",
    "car_a = Car()\n",
    "car_a._show()\n",
    "car_a.__showData()"
   ]
  },
  {
   "cell_type": "markdown",
   "metadata": {},
   "source": [
    "* public : All members in a Python class are public by default. Any member can be accessed from outside the class environment. \n",
    "\n",
    "* private: The members of a class that are declared private are accessible within the class only, private access modifier is the most secure access modifier. Data members of a class are declared private by adding a double underscore ‘__’ symbol before the data member of that class.\n",
    "\n",
    "* protected:The members of a class that are declared protected are only accessible to a class derived from it. Data members of a class are declared protected by adding a single underscore ‘_’ symbol before the data member of that class."
   ]
  },
  {
   "cell_type": "markdown",
   "metadata": {},
   "source": [
    "### <font color='blue'>  Class and Instance Variable </font>\n",
    "\n",
    "You have already seen that each instance of a class has its own namespace with its own instance variables. Two instances of the Point class each have their own instance variable x. Setting x in one instance doesn’t affect the other instance.\n",
    "\n",
    "A class can also have class variables. A class variable is set as part of the class definition.\n",
    "\n",
    "To be able to reason about class variables and instance variables, it is helpful to know the rules that the python interpreter uses. \n",
    "\n",
    "#### <font color='blue'>  Class Variable </font>\n",
    "\n",
    "Declared inside the class definition (but outside any of the instance methods). \n",
    "\n",
    "* They are not tied to any particular object of the class, hence shared across all the objects of the class. \n",
    "* Modifying a class variable affects all objects instance at the same time.\n",
    "\n",
    "#### <font color='blue'>  Instance Variable </font>\n",
    "\n",
    "Declared inside the constructor method of class (the __init__ method). \n",
    "\n",
    "* They are tied to the particular object instance of the class, hence the contents of an instance variable are completely independent from one object instance to the other."
   ]
  },
  {
   "cell_type": "code",
   "execution_count": 12,
   "metadata": {
    "scrolled": false
   },
   "outputs": [
    {
     "name": "stdout",
     "output_type": "stream",
     "text": [
      "jaguar ferrari\n",
      "10 10\n",
      "10\n"
     ]
    }
   ],
   "source": [
    "class Car:\n",
    "    wheels = 10                  # <-- Class variables\n",
    "    def __init__(self, name):\n",
    "        self.car_name = name    # <- Instance variable\n",
    "        \n",
    "jag = Car('jaguar')\n",
    "fer = Car('ferrari')\n",
    "\n",
    "print(jag.car_name, fer.car_name)\n",
    "print(jag.wheels, fer.wheels)  \n",
    "print(Car.wheels)"
   ]
  },
  {
   "cell_type": "markdown",
   "metadata": {},
   "source": [
    "## <font color='blue'> Practice excercise </font>"
   ]
  },
  {
   "cell_type": "markdown",
   "metadata": {},
   "source": [
    "write python code for following:\n",
    "\n",
    "* Create a `Pet` class with following methods in it apart from `__init__` constructor. \n",
    "    * get_name(self) --> returns the name\n",
    "    * get_animal_type(self) --> returns the type of the animal\n",
    "    * get_age(self) --> returns the age of the animal\n",
    "    * set_name(self, new_name) --> renames the pet\n",
    "    * set_animal_type(self, new_type) --> renames the animal type\n",
    "    * set_age(self, new_age) --> reset the age\n",
    "* `Pet` class `__init__` constructor must have all the instance variable declared in protected mode\n",
    "* `__init__` method should have dictionary as a parameter to allocate the input to each object.\n",
    "* for object instantiation accept the `name`, `animal_type` and `age` from user. \n",
    "* you need to have all your values in dictionary for object instantiation.  \n",
    "* you can directly insert key: value pairs during the instantiation of object. \n",
    "* print the instatitated object.  "
   ]
  },
  {
   "cell_type": "markdown",
   "metadata": {},
   "source": [
    "## <font color='blue'>  Inheritance </font>\n",
    "\n",
    "Inheritance allows us to define a class that inherits all the methods and properties from another class.\n",
    "\n",
    "Parent class is the class being inherited from, also called base class.\n",
    "\n",
    "Child class is the class that inherits from another class, also called derived class."
   ]
  },
  {
   "cell_type": "markdown",
   "metadata": {},
   "source": [
    "### <font color='blue'>  Create a Child Class </font>\n",
    "\n",
    "To create a class that inherits the functionality from another class, send the parent class as a parameter when creating the child class.\n",
    "\n",
    "Different ways to inherit the properties of base class.\n",
    "\n",
    "* using pass --> Used when not other properties needed in the new class.\n",
    "* using parent class name --> if new properties are required in the child class.\n",
    "* using super() --> alternate approach for using parent class name."
   ]
  },
  {
   "cell_type": "code",
   "execution_count": 8,
   "metadata": {},
   "outputs": [
    {
     "name": "stdout",
     "output_type": "stream",
     "text": [
      "Hello, my pet's name is Lizzy\n"
     ]
    }
   ],
   "source": [
    "# single inheritance example\n",
    "\n",
    "class Pet:\n",
    "    # constructor    \n",
    "    def __init__(self, name):   \n",
    "        self.pet_name = name   \n",
    "      \n",
    "    # regular method    \n",
    "    def say_hello(self):   \n",
    "        print(\"Hello, my pet's name is\", self.pet_name)   \n",
    "        \n",
    "class Dog(Pet):\n",
    "    pass\n",
    "        \n",
    "my_pet = Dog('Lizzy')   \n",
    "my_pet.say_hello() \n"
   ]
  },
  {
   "cell_type": "code",
   "execution_count": 9,
   "metadata": {},
   "outputs": [],
   "source": [
    "class A:\n",
    "    pass\n",
    "class B(A):\n",
    "    pass"
   ]
  },
  {
   "cell_type": "code",
   "execution_count": 10,
   "metadata": {},
   "outputs": [
    {
     "name": "stdout",
     "output_type": "stream",
     "text": [
      "I have a Dog as a Pet.\n",
      "Hello, my pet's name is Lizzy\n",
      "Hello, my pet's name is Dog\n"
     ]
    }
   ],
   "source": [
    "# Using super to inherit from the base class\n",
    "\n",
    "class Pet:\n",
    "    # constructor    \n",
    "    def __init__(self, name1): \n",
    "        self.name = name1   \n",
    "      \n",
    "    # regular method    \n",
    "    def say_hello(self):   \n",
    "        print(\"Hello, my pet's name is\", self.name)   \n",
    "        \n",
    "class Dog(Pet):\n",
    "    def __init__(self, name_data):\n",
    "        print('I have a Dog as a Pet.') \n",
    "        super().__init__(name_data)     # Using super() to inehrit the property of base class.\n",
    "        self.pet_type = \"Dog\"\n",
    "        super().say_hello()             # Using super() to inehrit the property of base class.\n",
    "    \n",
    "    def say_hello(self):   \n",
    "        print(\"Hello, my pet's name is\", self.pet_type)       \n",
    "\n",
    "d1 = Dog('Lizzy')\n",
    "d1.say_hello()\n",
    "#print(d1.pet_type)"
   ]
  },
  {
   "cell_type": "code",
   "execution_count": 11,
   "metadata": {},
   "outputs": [
    {
     "name": "stdout",
     "output_type": "stream",
     "text": [
      "I have a Dog as a Pet.\n",
      "2\n",
      "Hello, my pet's name is Julie\n"
     ]
    }
   ],
   "source": [
    "# Using Parent class name to inherit from the base class\n",
    "\n",
    "class Pet:\n",
    "    # constructor\n",
    "    legs = 2\n",
    "    def __init__(self, name):   \n",
    "        self.name = name   \n",
    "      \n",
    "    # regular method    \n",
    "    def say_hello(self):   \n",
    "        print(\"Hello, my pet's name is\", self.name)   \n",
    "        \n",
    "class Dog(Pet):\n",
    "    def __init__(self, name_data):\n",
    "        print('I have a Dog as a Pet.')\n",
    "        self.name_dog = \"Julie\"\n",
    "        Pet.__init__(self, self.name_dog)         # Using the parent name in the class to inherit the property. \n",
    "    \n",
    "d1 = Dog('Lizzy')\n",
    "print(Dog.legs)\n",
    "d1.say_hello()"
   ]
  },
  {
   "cell_type": "markdown",
   "metadata": {},
   "source": [
    "There are various types of inheritance which can be implemented in python. \n",
    "\n",
    "These are the names of those inheritance.\n",
    "\n",
    "* Single Inheritance\n",
    "* Multiple Inheritance\n",
    "* Multi-level Inheritance\n",
    "* Hierarchical Inheritance\n",
    "* Hybrid Inheritance"
   ]
  },
  {
   "cell_type": "code",
   "execution_count": 12,
   "metadata": {
    "scrolled": false
   },
   "outputs": [
    {
     "name": "stdout",
     "output_type": "stream",
     "text": [
      "John\n",
      "30\n",
      "1300\n"
     ]
    }
   ],
   "source": [
    "# Multiple Inheritance\n",
    "\n",
    "# derived class will inherit from two different class, or derived class will have more than 1 base class. \n",
    "\n",
    "# definition of the class starts here \n",
    "\n",
    "class Employee:  \n",
    "    #defining constructor  \n",
    "    def __init__(self, eName, eId):  \n",
    "        self.name = eName  \n",
    "        self.id = eId  \n",
    "  \n",
    "    #defining class methods  \n",
    "    def show_name(self):  \n",
    "        print(self.name) \n",
    "    \n",
    "    def show_id(self):\n",
    "        print(self.id)\n",
    "    \n",
    "class Salary: \n",
    "    #defining constructor\n",
    "    def __init__(self, grosssalary, eId):  \n",
    "        self.ctc = grosssalary + 100\n",
    "        self.id = eId \n",
    "        \n",
    "    #defining class methods  \n",
    "    def get_ctc(self):  \n",
    "        return self.ctc\n",
    "    \n",
    "    def show_id(self):\n",
    "        print(self.id) \n",
    "        \n",
    "class Details(Employee, Salary):            # extends both Person and Student class  \n",
    "    def __init__(self, name, id, grosssalary):  \n",
    "        Employee.__init__(self, name, id)\n",
    "        Salary.__init__(self, grosssalary, id) \n",
    "\n",
    "\n",
    "e1 = Details('John', '30', 1200)  \n",
    "e1.show_name()\n",
    "e1.show_id()\n",
    "print(e1.get_ctc()) \n"
   ]
  },
  {
   "cell_type": "code",
   "execution_count": 13,
   "metadata": {},
   "outputs": [
    {
     "name": "stdout",
     "output_type": "stream",
     "text": [
      "Enter Id: 1\n",
      "Enter Name: Vivek\n",
      "Enter Designation: Developer\n",
      "Enter Department: NPD\n",
      "Id:  1\n",
      "Name:  Vivek\n",
      "Protected\n",
      "Designation:  Developer\n",
      "Department:  NPD\n",
      "Protected\n"
     ]
    }
   ],
   "source": [
    "# Excercise: Multi-level Inheritance\n",
    "\n",
    "class IdDetail:\n",
    "    def __init__(self):\n",
    "        self.__id=0\n",
    "    def setId(self):\n",
    "        self.__id=int(input(\"Enter Id: \"))\n",
    "        self._data = \"Protected\"\n",
    "    def showId(self):\n",
    "        print(\"Id: \",self.__id)\n",
    "\n",
    "class NameDetail(IdDetail):\n",
    "    def __init__(self):\n",
    "        self.__name=\"\"\n",
    "    def setName(self):\n",
    "        self.setId()\n",
    "        self.__name=input(\"Enter Name: \")\n",
    "    def showName(self):\n",
    "        self.showId()\n",
    "        print(\"Name: \",self.__name)\n",
    "        print(self._data)\n",
    "        \n",
    "\n",
    "class Employee(NameDetail):\n",
    "    def __init__(self):\n",
    "        self.__desig=\"\"\n",
    "        self.__dept=\"\"\n",
    "    def setEmployee(self):\n",
    "        self.setName()\n",
    "        self.__desig=input(\"Enter Designation: \")\n",
    "        self.__dept= input(\"Enter Department: \")\n",
    "    def showEmployee(self):\n",
    "        self.showName()\n",
    "        print(\"Designation: \",self.__desig)\n",
    "        print(\"Department: \",self.__dept)\n",
    "        print(self._data)\n",
    "    \n",
    "e = Employee()\n",
    "e.setEmployee()\n",
    "e.showEmployee()"
   ]
  },
  {
   "cell_type": "code",
   "execution_count": 14,
   "metadata": {},
   "outputs": [
    {
     "name": "stdout",
     "output_type": "stream",
     "text": [
      "Information Technology\n",
      "Human Resource\n"
     ]
    }
   ],
   "source": [
    "# Exercise: Hierarchical Inheritance  \n",
    "\n",
    "class Role:  \n",
    "    def __init__(self, eName):  \n",
    "        self.name = eName  \n",
    "\n",
    "    def get_role(self):\n",
    "        print(self.name)\n",
    "\n",
    "        \n",
    "class ITRole(Role):\n",
    "    def __init__(self, eName):  \n",
    "        Role.__init__(self, eName )\n",
    "\n",
    "        \n",
    "class HRRole(Role):\n",
    "    def __init__(self, eName):  \n",
    "        Role.__init__(self, eName )\n",
    "        \n",
    "\n",
    "it_obj = ITRole(\"Information Technology\")\n",
    "hr_obj = HRRole(\"Human Resource\")\n",
    "\n",
    "it_obj.get_role()\n",
    "hr_obj.get_role()"
   ]
  },
  {
   "cell_type": "code",
   "execution_count": 23,
   "metadata": {},
   "outputs": [
    {
     "name": "stdout",
     "output_type": "stream",
     "text": [
      "This is a base class\n",
      "this is Parent1 class\n",
      "this is Parent2 class\n",
      "this is Child class\n"
     ]
    }
   ],
   "source": [
    "# Exercise : Hybrid inheritance - combines both multilevel and multiple inheritance.\n",
    "\n",
    "class Base:\n",
    "    def base_info(self):\n",
    "        print(\"This is a base class\")\n",
    "class Parent1(Base):\n",
    "    def parent1_func(self):\n",
    "        print(\"this is Parent1 class\")\n",
    "class Parent2(Base):\n",
    "    def parent2_func(self):\n",
    "        print(\"this is Parent2 class\")\n",
    "class Child(Parent1 , Parent2):\n",
    "    def child_func(self):\n",
    "        print(\"this is Child class\")\n",
    "\n",
    "ob = Child()\n",
    "ob.base_info()\n",
    "ob.parent1_func()\n",
    "ob.parent2_func()\n",
    "ob.child_func()"
   ]
  },
  {
   "cell_type": "markdown",
   "metadata": {},
   "source": [
    "### <font color='blue'> Method Overriding </font>  \n",
    "When a child class has s method with the same name and parameters as defined in parent class it is called ***method overriding.*** See an example below"
   ]
  },
  {
   "cell_type": "code",
   "execution_count": 10,
   "metadata": {},
   "outputs": [
    {
     "name": "stdout",
     "output_type": "stream",
     "text": [
      "Inside Parent Class\n",
      "Inside child Class\n",
      "Doing some additional work\n",
      "Inside Parent Class - Test\n",
      "Inside child Class - Test\n"
     ]
    }
   ],
   "source": [
    "class Parent():  \n",
    "    # Constructor \n",
    "    def __init__(self): \n",
    "        self.value = \"Inside Parent Class\"\n",
    "    \n",
    "    def show(self):\n",
    "        print(self.value)\n",
    "    \n",
    "    def append_a_string(self, strn):\n",
    "        print(f\"{self.value} - {strn}\")\n",
    "\n",
    "# Defining child class \n",
    "class Child(Parent): \n",
    "    # Constructor \n",
    "    def __init__(self): \n",
    "        self.value = \"Inside child Class\"\n",
    "        \n",
    "    def show(self):\n",
    "        print(self.value)\n",
    "        print(\"Doing some additional work\")\n",
    "        \n",
    "\n",
    "# Driver's code \n",
    "obj1 = Parent() \n",
    "obj2 = Child() \n",
    "\n",
    "obj1.show() \n",
    "obj2.show() \n",
    "obj1.append_a_string(\"Test\") \n",
    "obj2.append_a_string(\"Test\") "
   ]
  },
  {
   "cell_type": "markdown",
   "metadata": {},
   "source": [
    "**Note**: In case we expect both the ```Parent.append_a_string()``` and ```Child.append_a_string()``` to do exactly the same thing, then, we can easily skip defining the function ```Child.append_a_string()``` and use the Parent's function."
   ]
  },
  {
   "cell_type": "code",
   "execution_count": null,
   "metadata": {},
   "outputs": [],
   "source": [
    "# Is this method overriding? \n",
    "\n",
    "class India: \n",
    "    def capital(self): \n",
    "        print(\"New Delhi is the capital of India.\") \n",
    "\n",
    "    def language(self): \n",
    "        print(\"Hindi is the most widely spoken language of India.\") \n",
    "\n",
    "    def type(self): \n",
    "        print(\"India is a developing country.\") \n",
    "\n",
    "class USA: \n",
    "    def capital(self): \n",
    "        print(\"Washington, D.C. is the capital of USA.\") \n",
    "\n",
    "    def language(self): \n",
    "        print(\"English is the primary language of USA.\") \n",
    "\n",
    "    def type(self): \n",
    "        print(\"USA is a developed country.\") \n",
    "\n",
    "obj_ind = India() \n",
    "obj_usa = USA() \n",
    "for country in (obj_ind, obj_usa): \n",
    "    country.capital() \n",
    "    country.language() \n",
    "    country.type()\n"
   ]
  },
  {
   "cell_type": "markdown",
   "metadata": {},
   "source": [
    "### <font color='blue'> Method Overloading </font>\n",
    "\n",
    "When a class has 2 functions with same name but with different set of parameters. It is known as ***method overloading.***  \n",
    "***Python does not support method overloading by default.***   \n",
    "\n",
    "The question is why?\n",
    "For a class all the data members and methods that we declare are stored in a class object as an **attribute**. An object can have only 1 attribute of given name. See the code below...  "
   ]
  },
  {
   "cell_type": "code",
   "execution_count": 2,
   "metadata": {},
   "outputs": [
    {
     "data": {
      "text/plain": [
       "mappingproxy({'__module__': '__main__',\n",
       "              '__doc__': ' This class is defined to show how methods are stored in a class ',\n",
       "              '__init__': <function __main__.SomeClass.__init__(self, data1, data2)>,\n",
       "              'add': <function __main__.SomeClass.add(self)>,\n",
       "              'sub': <function __main__.SomeClass.sub(self)>,\n",
       "              '__dict__': <attribute '__dict__' of 'SomeClass' objects>,\n",
       "              '__weakref__': <attribute '__weakref__' of 'SomeClass' objects>})"
      ]
     },
     "execution_count": 2,
     "metadata": {},
     "output_type": "execute_result"
    }
   ],
   "source": [
    "class SomeClass:\n",
    "    \"\"\" This class is defined to show how methods are stored in a class \"\"\"\n",
    "    def __init__(self, data1, data2):\n",
    "        self.data1 = data1\n",
    "        self.data2 = data2\n",
    "        \n",
    "    def add(self):\n",
    "        return self.data1 + self.data2\n",
    "    \n",
    "    def sub(self):\n",
    "        return self.data1 - self.data2\n",
    "    \n",
    "SomeClass.__dict__"
   ]
  },
  {
   "cell_type": "markdown",
   "metadata": {},
   "source": [
    "You notice that these attributes are stored in a dictionary. And if we try to add a new function with the same name, it will simply replace the definition of an earlier one."
   ]
  },
  {
   "cell_type": "markdown",
   "metadata": {},
   "source": [
    "How can we implement method overloading?  \n",
    "One way is that we use the parameters, and based on the parameter values we implement the different functionality. See an example below"
   ]
  },
  {
   "cell_type": "code",
   "execution_count": 3,
   "metadata": {},
   "outputs": [
    {
     "name": "stdout",
     "output_type": "stream",
     "text": [
      "Hello, a girl with no name.\n",
      "Hello Arya Stark\n"
     ]
    }
   ],
   "source": [
    "class Stark:\n",
    "    def hello_stark(self, age, name = None):\n",
    "        if name is None:\n",
    "            print(\"Hello, a girl with no name.\")\n",
    "        else:\n",
    "            print(\"Hello \" + name)\n",
    "s1=Stark()\n",
    "s1.hello_stark(20)\n",
    "s1.hello_stark(20, \"Arya Stark\")"
   ]
  },
  {
   "cell_type": "markdown",
   "metadata": {},
   "source": [
    "### <font color='blue'> Method Resolution Order </font>\n",
    "\n",
    "When we search for an attribute in a class that is involved in python multiple inheritance, an order is followed. \n",
    "\n",
    "First, it is searched in the current class. If not found, the search moves to parent classes. This is left-to-right, depth-first."
   ]
  },
  {
   "cell_type": "code",
   "execution_count": 18,
   "metadata": {},
   "outputs": [],
   "source": [
    "class A:\n",
    "    pass\n",
    "class B:\n",
    "    pass\n",
    "class C(B):\n",
    "    pass\n",
    "class D(A,B):\n",
    "    pass\n",
    "class E(B,A):\n",
    "    pass"
   ]
  },
  {
   "cell_type": "code",
   "execution_count": 20,
   "metadata": {},
   "outputs": [
    {
     "name": "stdout",
     "output_type": "stream",
     "text": [
      "(<class '__main__.M'>, <class '__main__.B'>, <class '__main__.A'>, <class 'object'>)\n"
     ]
    }
   ],
   "source": [
    "class A:\n",
    "    def say_hi():\n",
    "        print(\"I am in class A\")                          \n",
    "class B:\n",
    "    def say_hi():\n",
    "        print(\"I am in class B\")                         \n",
    "\n",
    "class M(B, A):\n",
    "    pass\n",
    "\n",
    "\n",
    "print(M.__mro__)"
   ]
  },
  {
   "cell_type": "code",
   "execution_count": 21,
   "metadata": {},
   "outputs": [
    {
     "ename": "TypeError",
     "evalue": "Cannot create a consistent method resolution\norder (MRO) for bases B, A",
     "output_type": "error",
     "traceback": [
      "\u001b[1;31m---------------------------------------------------------------------------\u001b[0m",
      "\u001b[1;31mTypeError\u001b[0m                                 Traceback (most recent call last)",
      "\u001b[1;32m<ipython-input-21-ba91b5c6395c>\u001b[0m in \u001b[0;36m<module>\u001b[1;34m\u001b[0m\n\u001b[0;32m     11\u001b[0m     \u001b[1;32mpass\u001b[0m\u001b[1;33m\u001b[0m\u001b[1;33m\u001b[0m\u001b[0m\n\u001b[0;32m     12\u001b[0m \u001b[1;33m\u001b[0m\u001b[0m\n\u001b[1;32m---> 13\u001b[1;33m \u001b[1;32mclass\u001b[0m \u001b[0mD\u001b[0m\u001b[1;33m(\u001b[0m\u001b[0mC\u001b[0m\u001b[1;33m,\u001b[0m \u001b[0mE\u001b[0m\u001b[1;33m)\u001b[0m\u001b[1;33m:\u001b[0m\u001b[1;33m\u001b[0m\u001b[1;33m\u001b[0m\u001b[0m\n\u001b[0m\u001b[0;32m     14\u001b[0m     \u001b[1;32mpass\u001b[0m\u001b[1;33m\u001b[0m\u001b[1;33m\u001b[0m\u001b[0m\n\u001b[0;32m     15\u001b[0m \u001b[1;33m\u001b[0m\u001b[0m\n",
      "\u001b[1;31mTypeError\u001b[0m: Cannot create a consistent method resolution\norder (MRO) for bases B, A"
     ]
    }
   ],
   "source": [
    "class A:  \n",
    "    pass\n",
    "  \n",
    "class B:  \n",
    "    pass\n",
    "  \n",
    "class C(B, A):  \n",
    "    pass\n",
    "\n",
    "class E(A, B):  \n",
    "    pass\n",
    "\n",
    "class D(C, E):  \n",
    "    pass\n",
    "\n",
    "print(D.__mro__)\n"
   ]
  },
  {
   "cell_type": "markdown",
   "metadata": {},
   "source": [
    "Now an obvious question arises what will happen if same variable or method is present in the both child class and base class. \n",
    "\n",
    "Lets look at the following example. "
   ]
  },
  {
   "cell_type": "markdown",
   "metadata": {},
   "source": [
    "### <font color='blue'> Composition </font>\n",
    "\n",
    "\n",
    "In this concept, we will describe a class that references to one or more objects of other classes as an Instance variable. \n",
    "\n",
    "Here, by using the class name or by creating the object we can access the members of one class inside another class. \n",
    "\n",
    "It enables creating complex types by combining objects of different classes. \n",
    "\n",
    "It means that a class Composite can contain an object of another class Component. This type of relationship is known as Has-A Relation."
   ]
  },
  {
   "cell_type": "code",
   "execution_count": 15,
   "metadata": {},
   "outputs": [
    {
     "name": "stdout",
     "output_type": "stream",
     "text": [
      "Component class object created...\n",
      "Composite class object also created...\n",
      "Composite class method2() method executed...\n",
      "Component class method1() method executed...\n"
     ]
    }
   ],
   "source": [
    "class Component_cls:   \n",
    "    # composite class constructor \n",
    "    def __init__(self): \n",
    "        print('Component class object created...') \n",
    "        \n",
    "    # composite class instance method \n",
    "    def method1(self): \n",
    "        print('Component class method1() method executed...') \n",
    "    \n",
    "  \n",
    "  \n",
    "class Composite_cls(): \n",
    "    # composite class constructor \n",
    "    def __init__(self): \n",
    "        # creating object of component class \n",
    "        self.obj1 = Component_cls()           \n",
    "        print('Composite class object also created...') \n",
    "     \n",
    "    def method2(self):\n",
    "        print('Composite class method2() method executed...') \n",
    "        self.obj1.method1()\n",
    "        \n",
    "        \n",
    "# creating object of composite class \n",
    "obj2 = Composite_cls() \n",
    "  \n",
    "# calling m2() method of composite class \n",
    "obj2.method2()"
   ]
  },
  {
   "cell_type": "markdown",
   "metadata": {},
   "source": [
    "Inheritance is used where a class wants to derive the nature of parent class and then modify or extend the functionality of it.\n",
    "\n",
    "Inheritance will extend the functionality with extra features allows overriding of methods, but in the case of Composition, we can only use that class we can not modify or extend the functionality of it. \n",
    "\n",
    "When the need is to use the class as it is without any modification, the composition is recommended. But when one needs to change the behavior of the method in another class, then inheritance is recommended."
   ]
  },
  {
   "cell_type": "markdown",
   "metadata": {},
   "source": [
    "### <font color='blue'> Abstract Classes </font>\n",
    "\n",
    "Abstract classes are classes that contain one or more abstract methods. \n",
    "\n",
    "An abstract method is a method that is declared, but contains no implementation. \n",
    "\n",
    "Abstract classes cannot be instantiated, and require subclasses to provide implementations for the abstract methods.\n",
    "\n",
    "In fact, Python on its own doesn't provide abstract classes. \n",
    "\n",
    "Yet, Python comes with a module which provides the infrastructure for defining Abstract Base Classes (ABCs). This module is called - for obvious reasons - abc."
   ]
  },
  {
   "cell_type": "code",
   "execution_count": 44,
   "metadata": {},
   "outputs": [],
   "source": [
    "class AbstractClass:\n",
    "    def do_something(self):\n",
    "        pass\n",
    "class A(AbstractClass):\n",
    "    pass\n",
    "\n",
    "A = AbstractClass()"
   ]
  },
  {
   "cell_type": "code",
   "execution_count": null,
   "metadata": {},
   "outputs": [],
   "source": [
    "class AbstractClass:\n",
    "\n",
    "    def __init__(self):\n",
    "        if self.__class__ == AbstractClass:\n",
    "            raise Exception('I am abstract!')\n",
    "        \n",
    "    \n",
    "    def do_something(self):\n",
    "        pass\n",
    "    \n",
    "class B(AbstractClass):\n",
    "    pass\n",
    "\n",
    "b = B()\n",
    "#a = AbstractClass()\n",
    "print(1)"
   ]
  },
  {
   "cell_type": "code",
   "execution_count": 17,
   "metadata": {},
   "outputs": [
    {
     "name": "stdout",
     "output_type": "stream",
     "text": [
      "52\n",
      "420\n"
     ]
    }
   ],
   "source": [
    "from abc import ABC, abstractmethod\n",
    " \n",
    "class AbstractClassExample(ABC):\n",
    "\n",
    "    @abstractmethod\n",
    "    def do_something(self):        \n",
    "        pass\n",
    "\n",
    "class DoAdd42(AbstractClassExample):\n",
    "    \n",
    "    def __init__(self, value):\n",
    "        self.value = value\n",
    "\n",
    "    def do_something(self):\n",
    "        return self.value + 42\n",
    "        \n",
    "    \n",
    "class DoMul42(AbstractClassExample):\n",
    "    \n",
    "    def __init__(self, value):\n",
    "        self.value = value\n",
    "\n",
    "    def do_something(self):\n",
    "        return self.value * 42\n",
    "\n",
    "x = DoAdd42(10)\n",
    "y = DoMul42(10)\n",
    "\n",
    "#a = AbstractClassExample()\n",
    "\n",
    "print(x.do_something())\n",
    "print(y.do_something())"
   ]
  },
  {
   "cell_type": "markdown",
   "metadata": {},
   "source": [
    "Write a class called CoffeeShop, which has three instance variables:\n",
    "\n",
    "name : a string (basically, of the shop)\n",
    "menu : a list of items (of dict type), with each item containing the item (name of the item), type (whether a food or a drink) and price.\n",
    "orders : an empty list\n",
    "\n",
    "and seven methods:\n",
    "\n",
    "add_order: adds the name of the item to the end of the orders list if it exists on the menu, otherwise, return \"This item is currently unavailable!\"\n",
    "\n",
    "fulfill_order: if the orders list is not empty, return \"The {item} is ready!\". If the orders list is empty, return \"All orders have been fulfilled!\"\n",
    "\n",
    "list_orders: returns the item names of the orders taken, otherwise, an empty list.\n",
    "\n",
    "due_amount: returns the total amount due for the orders taken.\n",
    "\n",
    "cheapest_item: returns the name of the cheapest item on the menu.\n",
    "\n",
    "drinks_only: returns only the item names of type drink from the menu.\n",
    "\n",
    "food_only: returns only the item names of type food from the menu."
   ]
  }
 ],
 "metadata": {
  "kernelspec": {
   "display_name": "Python 3",
   "language": "python",
   "name": "python3"
  },
  "language_info": {
   "codemirror_mode": {
    "name": "ipython",
    "version": 3
   },
   "file_extension": ".py",
   "mimetype": "text/x-python",
   "name": "python",
   "nbconvert_exporter": "python",
   "pygments_lexer": "ipython3",
   "version": "3.8.8"
  }
 },
 "nbformat": 4,
 "nbformat_minor": 4
}
