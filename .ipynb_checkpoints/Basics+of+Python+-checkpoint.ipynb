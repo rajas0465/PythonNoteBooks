{
 "cells": [
  {
   "cell_type": "markdown",
   "metadata": {},
   "source": [
    "# <font color='blue'> Table Of Contents </font>\n",
    "\n",
    "# <font color='blue'> Python </font>\n",
    "\n",
    "\n",
    "### <font color='blue'> Variables and Data types </font>\n",
    "\n",
    "<font color='blue'>\n",
    "\n",
    "* Lists, Tuples, String, Set, Dictionary\n",
    "\n",
    "* Multi-dimensional data\n",
    "\n",
    "* Example\n",
    "\n",
    "</font> \n",
    "\n",
    "### <font color='blue'> Conditional Statements </font>\n",
    "\n",
    "<font color='blue'>\n",
    "\n",
    "* Nested Conditional Statements\n",
    "\n",
    "* Example\n",
    "    \n",
    "</font>    \n",
    "\n",
    "### <font color='blue'> Looping Statements  </font>\n",
    "\n",
    "<font color='blue'>\n",
    "\n",
    "* For, While \n",
    "\n",
    "* Use of range()\n",
    "\n",
    "* Example\n",
    "    \n",
    "</font>    \n",
    "\n",
    "### <font color='blue'> Functions  </font>\n",
    "\n",
    "<font color='blue'>\n",
    "\n",
    "* Built-in functions\n",
    "\n",
    "* UDFs\n",
    "\n",
    "* Calling a function\n",
    "\n",
    "* Returning a value\n",
    "\n",
    "* Recursive functions\n",
    "    \n",
    "</font>\n",
    "\n",
    "### <font color='blue'> Industry Oriented Python Usage/examples </font>\n",
    "\n",
    "<font color='blue'>\n",
    "\n",
    "* Cache memory (SaaS based Applications)\n",
    "\n",
    "* ETLs in python\n",
    "\n",
    "    \n",
    "</font>\n",
    "        \n",
    "</font>"
   ]
  },
  {
   "cell_type": "markdown",
   "metadata": {},
   "source": [
    "# <font color='blue'> Variables and Data types </font>"
   ]
  },
  {
   "cell_type": "markdown",
   "metadata": {},
   "source": [
    "Variables are reserved memory locations to store values. \n",
    "\n",
    "This means that when you create a variable you reserve some space in memory.\n",
    "\n",
    "A variable is a name that refers to a value.\n",
    "\n",
    "An assignment statement creates new variables and gives them values."
   ]
  },
  {
   "cell_type": "code",
   "execution_count": 1,
   "metadata": {},
   "outputs": [],
   "source": [
    "a = 123\n",
    "b = 12\n",
    "c = 123 + 12"
   ]
  },
  {
   "cell_type": "code",
   "execution_count": 2,
   "metadata": {},
   "outputs": [
    {
     "name": "stdout",
     "output_type": "stream",
     "text": [
      "1\n"
     ]
    }
   ],
   "source": [
    "#var_name = value\n",
    "\n",
    "b_num = 1\n",
    "\n",
    "print(b_num) "
   ]
  },
  {
   "cell_type": "code",
   "execution_count": 3,
   "metadata": {},
   "outputs": [
    {
     "ename": "SyntaxError",
     "evalue": "invalid syntax (<ipython-input-3-56f54d1636df>, line 1)",
     "output_type": "error",
     "traceback": [
      "\u001b[1;36m  File \u001b[1;32m\"<ipython-input-3-56f54d1636df>\"\u001b[1;36m, line \u001b[1;32m1\u001b[0m\n\u001b[1;33m    int a;\u001b[0m\n\u001b[1;37m        ^\u001b[0m\n\u001b[1;31mSyntaxError\u001b[0m\u001b[1;31m:\u001b[0m invalid syntax\n"
     ]
    }
   ],
   "source": [
    "int a;"
   ]
  },
  {
   "cell_type": "markdown",
   "metadata": {},
   "source": [
    "## <font color='blue'> Data types </font>\n",
    "\n",
    "The data stored in memory can be of many types. \n",
    "\n",
    "Python has various standard data types that are used to define the operations possible on them and the storage method for each of them.\n",
    "\n",
    "Age of aperson is will be stored in numeric and address will be stored using alphabets. \n",
    "\n",
    "Python has some standard data types which are mentioned below:\n",
    "\n",
    "* Numbers\n",
    "* String\n",
    "* List\n",
    "* Tuple\n",
    "* Set\n",
    "* Dictionary etc. \n",
    "\n"
   ]
  },
  {
   "cell_type": "code",
   "execution_count": 4,
   "metadata": {},
   "outputs": [
    {
     "name": "stdout",
     "output_type": "stream",
     "text": [
      "<class 'int'>\n",
      "<class 'float'>\n",
      "<class 'str'>\n",
      "<class 'float'>\n"
     ]
    }
   ],
   "source": [
    "val = 10          # An integer assignment\n",
    "miles   = 100.5       # A floating point\n",
    "name    = \"Greatlearning\"       # A string\n",
    "\n",
    "print(type(val))\n",
    "print(type(miles))\n",
    "print(type(name))\n",
    "\n",
    "val = 10.5\n",
    "print(type(val))"
   ]
  },
  {
   "cell_type": "markdown",
   "metadata": {},
   "source": [
    "### <font color='blue'> Assigning value in Python </font>"
   ]
  },
  {
   "cell_type": "code",
   "execution_count": 5,
   "metadata": {
    "scrolled": true
   },
   "outputs": [
    {
     "name": "stdout",
     "output_type": "stream",
     "text": [
      "10\n",
      "Greatlearning\n",
      "20.4\n",
      "140704068544592\n",
      "1507049924656\n",
      "140704068544592\n"
     ]
    }
   ],
   "source": [
    "val = 10          # An integer assignment\n",
    "miles   = 20.4       # A floating point\n",
    "name    = \"Greatlearning\"       # A string\n",
    "\n",
    "print(val)\n",
    "print(name)\n",
    "print(miles)\n",
    "\n",
    "print(id(val))\n",
    "print(id(miles))\n",
    "\n",
    "val3 = 10\n",
    "\n",
    "print(id(val3))"
   ]
  },
  {
   "cell_type": "code",
   "execution_count": 6,
   "metadata": {},
   "outputs": [
    {
     "name": "stdout",
     "output_type": "stream",
     "text": [
      "<class 'int'>\n"
     ]
    }
   ],
   "source": [
    "a = 10\n",
    "print(type(a))\n",
    "a = 10.5\n",
    "a = 'Hello'"
   ]
  },
  {
   "cell_type": "code",
   "execution_count": 7,
   "metadata": {},
   "outputs": [
    {
     "name": "stdout",
     "output_type": "stream",
     "text": [
      "<class 'str'>\n"
     ]
    }
   ],
   "source": [
    "print(type(a))"
   ]
  },
  {
   "cell_type": "markdown",
   "metadata": {},
   "source": [
    "### <font color='blue'> Variable names and keywords </font>\n",
    "\n",
    "\n",
    "Programmers generally choose names for their variables that are meaningful and document what the variable is used for.\n",
    "\n",
    "Variable names can be arbitrarily long. They can contain both letters and numbers, but they cannot start with a number. It is legal to use uppercase letters, but it is a good idea to begin variable names with a lowercase letter\n",
    "\n",
    "### <font color='blue'> Statements </font>\n",
    "\n",
    "A statement is a unit of code that the Python interpreter can execute. We have seen two kinds of statements: print being an expression statement and assignment.\n",
    "\n",
    "When you type a statement in interactive mode, the interpreter executes it and displays the result, if there is one.\n",
    "\n",
    "A script usually contains a sequence of statements. If there is more than one statement, the results appear one at a time as the statements execute.\n",
    "\n",
    "### <font color='blue'> Comments </font>\n",
    "\n",
    "As programs get bigger and more complicated, they get more difficult to read. Formal languages are dense, and it is often difficult to look at a piece of code and figure out what it is doing, or why.\n",
    "\n",
    "For this reason, it is a good idea to add notes to your programs to explain in natural language what the program is doing. These notes are called comments, and in Python they start with the `#` symbol:"
   ]
  },
  {
   "cell_type": "code",
   "execution_count": 8,
   "metadata": {},
   "outputs": [],
   "source": [
    "factoryVar = 0\n",
    "factory_var = 0\n",
    "\n",
    "FactoryVar = 10\n"
   ]
  },
  {
   "cell_type": "code",
   "execution_count": 9,
   "metadata": {},
   "outputs": [
    {
     "name": "stdout",
     "output_type": "stream",
     "text": [
      "66.66666666666667\n"
     ]
    }
   ],
   "source": [
    "# compute the percentage of the hour that has elapsed\n",
    "minute = 40\n",
    "percentage = (minute * 100) / 60\n",
    "print(percentage)"
   ]
  },
  {
   "cell_type": "markdown",
   "metadata": {},
   "source": [
    "#### <font color='blue'> input() function Python </font>\n",
    "\n",
    "Show example for different data types through user input and how input() function works. "
   ]
  },
  {
   "cell_type": "code",
   "execution_count": 10,
   "metadata": {
    "scrolled": false
   },
   "outputs": [
    {
     "name": "stdout",
     "output_type": "stream",
     "text": [
      "7\n",
      "9\n",
      "<class 'str'>\n",
      "79\n"
     ]
    }
   ],
   "source": [
    "a = input()\n",
    "b = input()\n",
    "print(type(a))\n",
    "c = a+b\n",
    "print(c)"
   ]
  },
  {
   "cell_type": "code",
   "execution_count": 11,
   "metadata": {
    "scrolled": false
   },
   "outputs": [
    {
     "name": "stdout",
     "output_type": "stream",
     "text": [
      "Enter the integer value: 6\n",
      "6\n",
      "<class 'int'>\n"
     ]
    }
   ],
   "source": [
    "p = int(input(\"Enter the integer value: \"))\n",
    "print(p)\n",
    "print(type(p))\n",
    "\n",
    "#type_want_to_convert(var_name/value/input())\n"
   ]
  },
  {
   "cell_type": "code",
   "execution_count": null,
   "metadata": {},
   "outputs": [],
   "source": [
    "a = input()\n",
    "print(a)\n",
    "print(type(a))"
   ]
  },
  {
   "cell_type": "markdown",
   "metadata": {},
   "source": [
    "#### <font color='blue'> How to accept values of other data type </font>\n",
    "\n",
    "If every element user input is string only then how do we perform mathematical operation on user input. \n",
    "\n",
    "* Implicit typecasting --> Done by the system. \n",
    "* Explicit typecasting --> We will use explicit typecasting where we will change the data type by giving specific command. \n"
   ]
  },
  {
   "cell_type": "code",
   "execution_count": null,
   "metadata": {
    "scrolled": false
   },
   "outputs": [],
   "source": [
    "a = int(20.5)\n",
    "print(a)\n",
    "print(type(a))"
   ]
  },
  {
   "cell_type": "code",
   "execution_count": null,
   "metadata": {},
   "outputs": [],
   "source": [
    "a = float(input())\n",
    "print(a)\n",
    "print(type(a))"
   ]
  },
  {
   "cell_type": "code",
   "execution_count": null,
   "metadata": {},
   "outputs": [],
   "source": [
    "a = input()\n",
    "print(a)\n",
    "print(type(a))"
   ]
  },
  {
   "cell_type": "code",
   "execution_count": null,
   "metadata": {},
   "outputs": [],
   "source": [
    "p = 34\n",
    "print(type(p))\n",
    "p = 34.5\n",
    "print(type(p))\n"
   ]
  },
  {
   "cell_type": "markdown",
   "metadata": {},
   "source": [
    "### <font color='blue'> String </font>\n",
    "\n",
    "Strings in Python are identified as a contiguous set of characters or a single character represented in the quotation marks. \n",
    "\n",
    "Python does not have concept of characters. \n",
    "\n",
    "Python allows for either pairs of single or double quotes.\n"
   ]
  },
  {
   "cell_type": "code",
   "execution_count": null,
   "metadata": {},
   "outputs": [],
   "source": [
    "str1 = '24'\n",
    "\n",
    "a = 10\n",
    "\n",
    "# b = 10 + '10.5'\n",
    "\n",
    "print(str1 + str(a))\n",
    "\n",
    "print(str1 + \"\\\\\\\"TEST\\\"\") \n",
    "\n",
    "print(str1) "
   ]
  },
  {
   "cell_type": "code",
   "execution_count": null,
   "metadata": {},
   "outputs": [],
   "source": [
    "s1 = '''this is\n",
    "python.\n",
    "add your code here here\n",
    "Did you see C'''\n",
    "print(s1)"
   ]
  },
  {
   "attachments": {
    "control_statements.gif": {
     "image/gif": "[encoded data removed]"
    }
   },
   "cell_type": "markdown",
   "metadata": {},
   "source": [
    "## <font color='blue'> Control Statements </font>\n",
    "\n",
    "\n",
    "![control_statements.gif](attachment:control_statements.gif)"
   ]
  },
  {
   "cell_type": "markdown",
   "metadata": {},
   "source": [
    "## <font color='blue'> Indentation </font>\n",
    "\n",
    "Python relies on indentation (whitespace at the beginning of a line) to define scope in the code. \n",
    "\n",
    "Other programming languages often use curly-brackets for this purpose.\n"
   ]
  },
  {
   "cell_type": "markdown",
   "metadata": {},
   "source": [
    "## <font color='blue'> Sequential Statements </font>"
   ]
  },
  {
   "cell_type": "code",
   "execution_count": null,
   "metadata": {},
   "outputs": [],
   "source": [
    "num1 = int(input('Enter first number: '))\n",
    "num2 = int(input('Enter second number: '))\n",
    "\n",
    "sum_val = num1 + num2\n",
    "\n",
    "#a = str(sum_val)\n",
    "\n",
    "print(\"The sum of\",  num1,  \"and\", num2, \"is\", sum_val)\n",
    "\n",
    "print('The sum of {} and {} is {}'.format(num1, num2, sum_val))"
   ]
  },
  {
   "cell_type": "markdown",
   "metadata": {},
   "source": [
    "## <font color='blue'> Conditional Statements </font>\n",
    "\n",
    "These are decision making statements which is required when there are more than one choices. \n"
   ]
  },
  {
   "cell_type": "code",
   "execution_count": null,
   "metadata": {},
   "outputs": [],
   "source": [
    "if (logical_checking):\n",
    "    statement1\n",
    "    statement0\n",
    "    statement1\n",
    "    statement2\n",
    "    statement3\n",
    "    \n",
    "statement4"
   ]
  },
  {
   "cell_type": "code",
   "execution_count": null,
   "metadata": {
    "scrolled": true
   },
   "outputs": [],
   "source": [
    "a = int(input(\"Enter the value of a: \"))\n",
    "b = int(input(\"Enter the value of b: \"))\n",
    "if (a > b):\n",
    "    print(\"a is greater than b\")\n",
    "    print(1)\n",
    "    print(2)\n",
    "    r = a+b\n",
    "    print(r)\n",
    "print(\"Condition checked\")\n",
    "print(r)"
   ]
  },
  {
   "cell_type": "code",
   "execution_count": null,
   "metadata": {},
   "outputs": [],
   "source": [
    "# Check if the given positive integer number is divisible by 7 "
   ]
  },
  {
   "cell_type": "code",
   "execution_count": null,
   "metadata": {},
   "outputs": [],
   "source": [
    "# Write a simple program to check given number if it is divided by 3 or 5."
   ]
  },
  {
   "cell_type": "code",
   "execution_count": null,
   "metadata": {},
   "outputs": [],
   "source": [
    "if(\"Hello\"):\n",
    "    print('hello')\n",
    "else:\n",
    "    print(\"world\")"
   ]
  },
  {
   "cell_type": "markdown",
   "metadata": {},
   "source": [
    "### <font color='blue'> Chained Conditional Statements </font>"
   ]
  },
  {
   "cell_type": "code",
   "execution_count": null,
   "metadata": {
    "scrolled": true
   },
   "outputs": [],
   "source": [
    "a = int(input(\"Enter the value of a: \"))\n",
    "b = int(input(\"Enter the value of b: \"))\n",
    "if a > b:\n",
    "    print(\"a is greater than b\")\n",
    "if a == b:\n",
    "    print(\"a is equal to b\")\n",
    "if a < 0:\n",
    "    print(\"a is less than 0\")\n",
    "else:\n",
    "    print(\"a is not greater than b\")\n",
    "    \n",
    "print(\"Condition checked\")"
   ]
  },
  {
   "cell_type": "markdown",
   "metadata": {},
   "source": [
    "### <font color='blue'> Nested if-else Statements </font>"
   ]
  },
  {
   "cell_type": "code",
   "execution_count": null,
   "metadata": {},
   "outputs": [],
   "source": [
    "x = int(input(\"Enter value of x: \"))\n",
    "\n",
    "if x > 15:\n",
    "    print(\"Value is above 15,\", end= \"-\")\n",
    "    if x > 25:\n",
    "        print(\"and also above 25!\")\n",
    "        if x > 35:\n",
    "            print(\"also above 35\", end= \"-\")\n",
    "        else:\n",
    "            print(\"Not above 35\", end= \"-\")\n",
    "    else:\n",
    "        print(\"but not above 25.\", end= \"-\")\n",
    "else:\n",
    "    print(\"value is less than 15\", end= \"-\")"
   ]
  },
  {
   "cell_type": "markdown",
   "metadata": {},
   "source": [
    "\n",
    "#### <font color='blue'> Excercise  </font>\n",
    "\n",
    "# Write a program to accept input score from user. The score should be between 0.0 and 1.0. If the score is out of range, print an error message as \"Wrong Input\". If the score is between 0.0 and 1.0, print a grade using the following table:"
   ]
  },
  {
   "cell_type": "code",
   "execution_count": null,
   "metadata": {},
   "outputs": [],
   "source": [
    " Score   Grade\n",
    ">= 0.9     A\n",
    ">= 0.8     B\n",
    ">= 0.7     C\n",
    ">= 0.6     D\n",
    " < 0.6     F"
   ]
  },
  {
   "cell_type": "markdown",
   "metadata": {},
   "source": [
    "## <font color='blue'> Looping statements </font>\n",
    "\n",
    "Python has two in-built loop commands:\n",
    "\n",
    "* while loops\n",
    "* for loops\n",
    "\n",
    "### <font color='blue'> The while Loop </font>\n",
    "\n",
    "With the while loop we can execute a set of statements as long as a condition is true.  \n",
    "\n",
    "Computers are often used to automate repetitive tasks. Repeating identical or similar tasks without making errors is something that computers do well and people do poorly. Because iteration is so common, Python provides several language features to make it easier.\n",
    "\n",
    "Note: remember to terminate based on some condition, otherwise the loop will continue forever."
   ]
  },
  {
   "cell_type": "code",
   "execution_count": null,
   "metadata": {},
   "outputs": [],
   "source": [
    "while (logical_checking):\n",
    "    statement1\n",
    "    statement2\n",
    "    statement3\n",
    "    \n",
    "statement4\n",
    "statement5\n",
    "statement6\n"
   ]
  },
  {
   "cell_type": "code",
   "execution_count": null,
   "metadata": {},
   "outputs": [],
   "source": [
    "n = 10\n",
    "while (n != 0):\n",
    "    print(n)\n",
    "    n = n-1\n",
    "print('Blastoff!')"
   ]
  },
  {
   "cell_type": "markdown",
   "metadata": {},
   "source": [
    "More formally, here is the flow of execution for a while statement:\n",
    "\n",
    "* Evaluate the condition, yielding True or False.\n",
    "\n",
    "* If the condition is false, exit the while statement and continue execution at the next statement.\n",
    "\n",
    "* If the condition is true, execute the body and then go back to step 1.\n"
   ]
  },
  {
   "cell_type": "markdown",
   "metadata": {},
   "source": [
    "### <font color='blue'> The for Loop </font>\n",
    "\n",
    "A for loop is used for iterating over a sequence (that is either a list, a tuple, a dictionary, a set, or a string).\n",
    "\n",
    "It also works as an iterator method found in other object-orientated programming languages.\n",
    "\n",
    "With the for loop we can execute a set of statements, or iterate items in a list, tuple, set etc.\n",
    "\n",
    "Sometimes we want to loop through a set of things such as a list of words, the lines in a file, or a list of numbers. \n",
    "\n",
    "When we have a list of things to loop through, we can construct a definite loop using a for statement. \n",
    "\n",
    "We call the while statement an indefinite loop because it simply loops until some condition becomes False, whereas the for loop is looping through a known set of items so it runs through as many iterations as there are items in the set.\n"
   ]
  },
  {
   "cell_type": "code",
   "execution_count": null,
   "metadata": {},
   "outputs": [],
   "source": [
    "for value in ():\n",
    "    state1\n",
    "    state2\n",
    "    state3\n",
    "state4\n",
    "state5"
   ]
  },
  {
   "cell_type": "code",
   "execution_count": null,
   "metadata": {},
   "outputs": [],
   "source": [
    "friends = ['Joseph', 'Glenn', 'Sally', \"Mangilal\", \"Jethalal\"]\n",
    "for i in friends:\n",
    "    print('Happy New Year:', i)\n",
    "print('Done!')"
   ]
  },
  {
   "cell_type": "markdown",
   "metadata": {},
   "source": [
    "Translating this for loop to English is not as direct as the while, but if you think of friends as a set, it goes like this: “Run the statements in the body of the for loop once for each friend in the set named friends.”"
   ]
  },
  {
   "attachments": {
    "range%28%29.png": {
     "image/png": "[encoded data removed]"
    }
   },
   "cell_type": "markdown",
   "metadata": {},
   "source": [
    "### <font color='blue'> range() function </font>\n",
    "\n",
    "![range%28%29.png](attachment:range%28%29.png)"
   ]
  },
  {
   "cell_type": "code",
   "execution_count": null,
   "metadata": {},
   "outputs": [],
   "source": [
    "result = 0\n",
    "for i in range(1, 10, 3):\n",
    "    result = result + i\n",
    "    print(i)  \n",
    "print(\"result: {}, {}\".format(result, i))"
   ]
  },
  {
   "cell_type": "code",
   "execution_count": null,
   "metadata": {},
   "outputs": [],
   "source": [
    "print(list(range(20)))"
   ]
  },
  {
   "cell_type": "markdown",
   "metadata": {},
   "source": [
    "### <font color='blue'> Nested loops </font>"
   ]
  },
  {
   "cell_type": "code",
   "execution_count": null,
   "metadata": {},
   "outputs": [],
   "source": [
    "# Loop through the items in the following list.\n",
    "\n",
    "adj = [\"red\", \"big\", \"tasty\"]\n",
    "fruits = [\"apple\", \"banana\", \"cherry\"]\n",
    "\n",
    "for x in adj:\n",
    "    for y in fruits:\n",
    "        print(x + \" : \" +  y)"
   ]
  },
  {
   "cell_type": "markdown",
   "metadata": {},
   "source": [
    "### <font color='blue'> break, continue, pass and else statements </font>"
   ]
  },
  {
   "cell_type": "code",
   "execution_count": null,
   "metadata": {
    "scrolled": true
   },
   "outputs": [],
   "source": [
    "i = 1\n",
    "while i < 10:\n",
    "    print(i)\n",
    "    if i == 3:\n",
    "        break\n",
    "    i += 1\n",
    "print(\"Done\")"
   ]
  },
  {
   "cell_type": "code",
   "execution_count": null,
   "metadata": {
    "scrolled": true
   },
   "outputs": [],
   "source": [
    "for j in range(10):\n",
    "    print(j)\n",
    "    print(1)\n",
    "    print(\"Hello\")\n",
    "    if j == 2:\n",
    "        continue\n",
    "print(\"Please Go on with new statement\")"
   ]
  },
  {
   "cell_type": "code",
   "execution_count": null,
   "metadata": {
    "scrolled": true
   },
   "outputs": [],
   "source": [
    "i = 0\n",
    "while i < 10:\n",
    "    i += 1\n",
    "    if i == 3:\n",
    "        break\n",
    "    print(i)\n",
    "else:\n",
    "    print(\"While loop is done\")\n",
    "print(\"Further execution\")"
   ]
  },
  {
   "cell_type": "code",
   "execution_count": null,
   "metadata": {},
   "outputs": [],
   "source": [
    "i = 3\n",
    "if i == 3:\n",
    "    print(3)\n",
    "    break\n",
    "print(i)"
   ]
  },
  {
   "cell_type": "markdown",
   "metadata": {},
   "source": [
    "##### <font color='blue'> Excercise </font>\n",
    "\n",
    "# Write a python program which repeatedly reads a number from the console until the user enters “done”. Once the provided input is “done”. Please print out the total sum of entered numbers, total count, and average of the entered numbers."
   ]
  },
  {
   "cell_type": "markdown",
   "metadata": {},
   "source": [
    "# <font color='blue'> Lists </font>\n",
    "\n",
    "Lists are the most versatile of Python's compound data types. \n",
    "\n",
    "A list contains items separated by commas and enclosed within square brackets ([]). \n",
    "\n",
    "To some extent, lists are similar to arrays in C. \n",
    "\n",
    "One difference between them is that all the items belonging to a list can be of different data type.\n",
    "\n",
    "#### <font color='blue'> Operations on  list: </font>\n",
    "\n",
    "1. Create list \n",
    "2. Insert data\n",
    "3. Delete data\n",
    "4. Update data\n",
    "5. delete list\n"
   ]
  },
  {
   "cell_type": "code",
   "execution_count": 3,
   "metadata": {},
   "outputs": [
    {
     "name": "stdout",
     "output_type": "stream",
     "text": [
      "[10, 20, 30, 40, 50]\n",
      "[10, 10, 20, 30, 40, 50, 9, 1, 1, -3, -19]\n"
     ]
    }
   ],
   "source": [
    "a_list = []\n",
    "\n",
    "List1 = [10, 20, 30, 40, 50]\n",
    "\n",
    "print(List1)\n",
    "\n",
    "# allows duplicate values\n",
    "\n",
    "List2 = [10, 10, 20 , 30 , 40 , 50, 9 , 1, 1, -3, -19]\n",
    "\n",
    "print(List2)"
   ]
  },
  {
   "cell_type": "code",
   "execution_count": 6,
   "metadata": {
    "run_control": {
     "marked": false
    },
    "scrolled": true
   },
   "outputs": [
    {
     "name": "stdout",
     "output_type": "stream",
     "text": [
      "['abc', 34, True, 40, 'male', 32.5]\n",
      "40\n",
      "6\n",
      "male\n",
      "male\n",
      "<class 'list'>\n",
      "['abc', 34, True, 40, 'male', 32.5, 1, 2, 3]\n",
      "['abc', 34, True, 40, 'male', 32.5, 1, 2, 3, 'abc', 34, True, 40, 'male', 32.5, 1, 2, 3]\n",
      "['abc', 34, True, 40, 'male', 32.5, 1, 2, 3]\n"
     ]
    }
   ],
   "source": [
    "List1 = [\"abc\", 34, True, 40, \"male\", 32.5]\n",
    "print(List1)\n",
    "print(List1[3])\n",
    "print(len(List1))\n",
    "print(List1[-2])\n",
    "print(List1[len(List1)-2])\n",
    "print(type(List1))\n",
    "list2 = List1 + [1, 2, 3]\n",
    "print(list2)\n",
    "print(list2 * 2)\n",
    "print(list2)"
   ]
  },
  {
   "cell_type": "code",
   "execution_count": 7,
   "metadata": {},
   "outputs": [
    {
     "name": "stdout",
     "output_type": "stream",
     "text": [
      "['abc', 34, True, 40, 'male']\n",
      "[10, 34, True, 40, 'male']\n"
     ]
    }
   ],
   "source": [
    "List1 = [\"abc\", 34, True, 40, \"male\"]\n",
    "print(List1)\n",
    "List1[0] = 10\n",
    "print(List1)"
   ]
  },
  {
   "cell_type": "code",
   "execution_count": 9,
   "metadata": {},
   "outputs": [
    {
     "name": "stdout",
     "output_type": "stream",
     "text": [
      "[1, 2, 3]\n",
      "[1, 2, 2, 4, 9, 0]\n"
     ]
    }
   ],
   "source": [
    "List1 = [1, 2, 3]\n",
    "print(List1)\n",
    "List1[2:6] = [2, 4, 9, 0]\n",
    "print(List1)"
   ]
  },
  {
   "cell_type": "code",
   "execution_count": 14,
   "metadata": {
    "run_control": {
     "marked": false
    }
   },
   "outputs": [
    {
     "name": "stdout",
     "output_type": "stream",
     "text": [
      "5\n",
      "1\n",
      "2\n",
      "3\n",
      "4\n",
      "5\n",
      "[1, 2, 3, 4, 5]\n"
     ]
    }
   ],
   "source": [
    "List1 = []\n",
    "n = int(input())\n",
    "for i in range(n):\n",
    "    num = int(input())\n",
    "    List1.append(num)\n",
    "print(List1)"
   ]
  },
  {
   "cell_type": "code",
   "execution_count": 17,
   "metadata": {},
   "outputs": [
    {
     "name": "stdout",
     "output_type": "stream",
     "text": [
      "[1, 2, 3, [1, 5, 7, 2]]\n",
      "7\n"
     ]
    }
   ],
   "source": [
    "List1 = [1, 2, 3]\n",
    "List2 = [1, 5, 7, 2]\n",
    "List1.append(List2)\n",
    "print(List1)\n",
    "print(List1[3][2])"
   ]
  },
  {
   "cell_type": "code",
   "execution_count": 18,
   "metadata": {},
   "outputs": [
    {
     "name": "stdout",
     "output_type": "stream",
     "text": [
      "[1, 2, 3, 1, 5, 7, 2]\n"
     ]
    }
   ],
   "source": [
    "List1 = [1, 2, 3]\n",
    "List2 = [1, 5, 7, 2]\n",
    "List1.extend(List2)\n",
    "print(List1)"
   ]
  },
  {
   "cell_type": "code",
   "execution_count": null,
   "metadata": {},
   "outputs": [],
   "source": [
    "List1 = [1, 2, 3, 1]\n",
    "List1.remove(1)  # --> Deleting the element 1, first occurence only \n",
    "print(List1)\n",
    "List1 = [1, 2]\n",
    "print(id(List1))"
   ]
  },
  {
   "cell_type": "markdown",
   "metadata": {},
   "source": [
    "# Create a list and insert data in it"
   ]
  },
  {
   "cell_type": "code",
   "execution_count": 19,
   "metadata": {},
   "outputs": [
    {
     "name": "stdout",
     "output_type": "stream",
     "text": [
      "1.2\n",
      "3.\n",
      "2\n",
      "1\n",
      "[1.2, 3.0, 2.0, 1.0]\n"
     ]
    }
   ],
   "source": [
    "List1 = []\n",
    "for i in range (4):\n",
    "    List1.append(float(input()))    \n",
    "print(List1)"
   ]
  },
  {
   "cell_type": "markdown",
   "metadata": {},
   "source": [
    "### <font color='blue'> Tuples </font>\n",
    "\n",
    "A tuple is another sequence data type that is similar to the list. \n",
    "\n",
    "Unlike lists, however, tuples are enclosed within parentheses.\n",
    "\n",
    "The main differences between lists and tuples are: \n",
    "\n",
    "* Lists are enclosed in brackets ( [ ] ) and their elements and size can be changed,\n",
    "* tuples are enclosed in parentheses ( ( ) ) and cannot be updated. \n",
    "* The important difference is that tuples are immutable. Tuples are also comparable and hashable so we can sort lists of them and use tuples as key values in Python dictionaries.\n",
    "\n",
    "Tuples can be thought of as read-only lists.\n",
    "\n",
    "#### <font color='blue'> Operations on  tuples: </font>\n",
    "\n",
    "1. Create a tuple \n",
    "2. Insert data\n",
    "3. Delete data\n",
    "4. Update data\n",
    "5. delete tuple\n"
   ]
  },
  {
   "cell_type": "code",
   "execution_count": 20,
   "metadata": {},
   "outputs": [
    {
     "name": "stdout",
     "output_type": "stream",
     "text": [
      "(1, 2, 3)\n"
     ]
    }
   ],
   "source": [
    "tuple1 = (1, 2, 3)\n",
    "print(tuple1)"
   ]
  },
  {
   "cell_type": "code",
   "execution_count": 25,
   "metadata": {},
   "outputs": [
    {
     "name": "stdout",
     "output_type": "stream",
     "text": [
      "('mouse', [8, 4, 6], (1, 2, 3))\n",
      "1\n"
     ]
    },
    {
     "ename": "TypeError",
     "evalue": "'tuple' object does not support item assignment",
     "output_type": "error",
     "traceback": [
      "\u001b[1;31m---------------------------------------------------------------------------\u001b[0m",
      "\u001b[1;31mTypeError\u001b[0m                                 Traceback (most recent call last)",
      "\u001b[1;32m<ipython-input-25-bd7d527d7978>\u001b[0m in \u001b[0;36m<module>\u001b[1;34m\u001b[0m\n\u001b[0;32m      3\u001b[0m \u001b[0mtuple2\u001b[0m \u001b[1;33m=\u001b[0m \u001b[1;33m(\u001b[0m\u001b[1;33m)\u001b[0m\u001b[1;33m\u001b[0m\u001b[1;33m\u001b[0m\u001b[0m\n\u001b[0;32m      4\u001b[0m \u001b[1;32mfor\u001b[0m \u001b[0mi\u001b[0m \u001b[1;32min\u001b[0m \u001b[0mrange\u001b[0m\u001b[1;33m(\u001b[0m\u001b[1;36m5\u001b[0m\u001b[1;33m)\u001b[0m\u001b[1;33m:\u001b[0m\u001b[1;33m\u001b[0m\u001b[1;33m\u001b[0m\u001b[0m\n\u001b[1;32m----> 5\u001b[1;33m     \u001b[0mtuple2\u001b[0m\u001b[1;33m[\u001b[0m\u001b[0mi\u001b[0m\u001b[1;33m]\u001b[0m \u001b[1;33m=\u001b[0m \u001b[0mint\u001b[0m\u001b[1;33m(\u001b[0m\u001b[0minput\u001b[0m\u001b[1;33m(\u001b[0m\u001b[1;33m)\u001b[0m\u001b[1;33m)\u001b[0m\u001b[1;33m\u001b[0m\u001b[1;33m\u001b[0m\u001b[0m\n\u001b[0m\u001b[0;32m      6\u001b[0m \u001b[0mprint\u001b[0m\u001b[1;33m(\u001b[0m\u001b[0mtuple2\u001b[0m\u001b[1;33m)\u001b[0m\u001b[1;33m\u001b[0m\u001b[1;33m\u001b[0m\u001b[0m\n",
      "\u001b[1;31mTypeError\u001b[0m: 'tuple' object does not support item assignment"
     ]
    }
   ],
   "source": [
    "tuple1 = (\"mouse\", [8, 4, 6], (1, 2, 3))\n",
    "print(tuple1)\n",
    "tuple2 = ()\n",
    "for i in range(5):\n",
    "    tuple2[i] = int(input())    \n",
    "print(tuple2)"
   ]
  },
  {
   "cell_type": "code",
   "execution_count": 24,
   "metadata": {},
   "outputs": [
    {
     "name": "stdout",
     "output_type": "stream",
     "text": [
      "6\n"
     ]
    }
   ],
   "source": [
    "tuple1 = (4, 2, 3, 6, 5)\n",
    "print(tuple1[3])"
   ]
  },
  {
   "cell_type": "code",
   "execution_count": 26,
   "metadata": {
    "scrolled": true
   },
   "outputs": [
    {
     "name": "stdout",
     "output_type": "stream",
     "text": [
      "('g', 'r', 'e', 'a', 't', 'l', 'e', 'a', 'r', 'n', 'i', 'n', 'g')\n"
     ]
    },
    {
     "ename": "AttributeError",
     "evalue": "'tuple' object has no attribute 'append'",
     "output_type": "error",
     "traceback": [
      "\u001b[1;31m---------------------------------------------------------------------------\u001b[0m",
      "\u001b[1;31mAttributeError\u001b[0m                            Traceback (most recent call last)",
      "\u001b[1;32m<ipython-input-26-a86d40e614de>\u001b[0m in \u001b[0;36m<module>\u001b[1;34m\u001b[0m\n\u001b[0;32m      1\u001b[0m \u001b[0mtuple1\u001b[0m \u001b[1;33m=\u001b[0m \u001b[1;33m(\u001b[0m\u001b[1;34m'g'\u001b[0m\u001b[1;33m,\u001b[0m \u001b[1;34m'r'\u001b[0m\u001b[1;33m,\u001b[0m \u001b[1;34m'e'\u001b[0m\u001b[1;33m,\u001b[0m \u001b[1;34m'a'\u001b[0m\u001b[1;33m,\u001b[0m \u001b[1;34m't'\u001b[0m\u001b[1;33m,\u001b[0m \u001b[1;34m'l'\u001b[0m\u001b[1;33m,\u001b[0m \u001b[1;34m'e'\u001b[0m\u001b[1;33m,\u001b[0m \u001b[1;34m'a'\u001b[0m\u001b[1;33m,\u001b[0m \u001b[1;34m'r'\u001b[0m\u001b[1;33m,\u001b[0m \u001b[1;34m'n'\u001b[0m\u001b[1;33m,\u001b[0m \u001b[1;34m'i'\u001b[0m\u001b[1;33m,\u001b[0m \u001b[1;34m'n'\u001b[0m\u001b[1;33m,\u001b[0m \u001b[1;34m'g'\u001b[0m\u001b[1;33m)\u001b[0m\u001b[1;33m\u001b[0m\u001b[1;33m\u001b[0m\u001b[0m\n\u001b[0;32m      2\u001b[0m \u001b[0mprint\u001b[0m\u001b[1;33m(\u001b[0m\u001b[0mtuple1\u001b[0m\u001b[1;33m)\u001b[0m\u001b[1;33m\u001b[0m\u001b[1;33m\u001b[0m\u001b[0m\n\u001b[1;32m----> 3\u001b[1;33m \u001b[0mtuple1\u001b[0m\u001b[1;33m.\u001b[0m\u001b[0mappend\u001b[0m\u001b[1;33m(\u001b[0m\u001b[1;34m'g'\u001b[0m\u001b[1;33m)\u001b[0m\u001b[1;33m\u001b[0m\u001b[1;33m\u001b[0m\u001b[0m\n\u001b[0m\u001b[0;32m      4\u001b[0m \u001b[0mprint\u001b[0m\u001b[1;33m(\u001b[0m\u001b[0mtuple1\u001b[0m\u001b[1;33m[\u001b[0m\u001b[1;36m0\u001b[0m\u001b[1;33m]\u001b[0m\u001b[1;33m)\u001b[0m\u001b[1;33m\u001b[0m\u001b[1;33m\u001b[0m\u001b[0m\n",
      "\u001b[1;31mAttributeError\u001b[0m: 'tuple' object has no attribute 'append'"
     ]
    }
   ],
   "source": [
    "tuple1 = ('g', 'r', 'e', 'a', 't', 'l', 'e', 'a', 'r', 'n', 'i', 'n', 'g')\n",
    "print(tuple1)\n",
    "tuple1.append('g')\n",
    "print(tuple1[0])"
   ]
  },
  {
   "cell_type": "code",
   "execution_count": 30,
   "metadata": {},
   "outputs": [
    {
     "name": "stdout",
     "output_type": "stream",
     "text": [
      "1510647744\n",
      "1510647744\n"
     ]
    }
   ],
   "source": [
    "tuple10 = (1, 2, 3)\n",
    "\n",
    "tuple2 = (4, 5, 6)\n",
    "\n",
    "#tuple1 = tuple1 + tuple2\n",
    "\n",
    "tuple11 = (1, 2, 3)\n",
    "print(id(tuple11[1]))\n",
    "\n",
    "print(id(tuple10[1]))\n"
   ]
  },
  {
   "cell_type": "code",
   "execution_count": null,
   "metadata": {},
   "outputs": [],
   "source": [
    "del tuple2\n",
    "print(tuple2)"
   ]
  },
  {
   "cell_type": "markdown",
   "metadata": {},
   "source": [
    "### <font color='blue'> Sets </font>\n",
    "\n",
    "Sets are used to store multiple items in a single variable.\n",
    "\n",
    "Set items are unordered, unindexed, and do not allow duplicate values.\n",
    "\n",
    "Once a set is created with some elements we can add items in the set, but we can not change items inside it. \n",
    "\n",
    "Sets elements are written in curly ({_}) brackets.\n",
    "\n",
    "#### <font color='blue'> Operations on  set: </font>\n",
    "\n",
    "1. Create a set\n",
    "2. Insert data\n",
    "3. Delete data\n",
    "4. Update data\n",
    "5. delete a set\n"
   ]
  },
  {
   "cell_type": "code",
   "execution_count": 35,
   "metadata": {},
   "outputs": [
    {
     "name": "stdout",
     "output_type": "stream",
     "text": [
      "{1, 2, 3}\n",
      "{0, 1, 3.5, 10, 'Hello'}\n"
     ]
    }
   ],
   "source": [
    "set1 = {1, 2, 3, 3, 2, 1}\n",
    "print(set1)\n",
    "\n",
    "a = 10\n",
    "\n",
    "# set of mixed datatypes\n",
    "\n",
    "set2 = {1, 0, \"Hello\", a, 3.5, True, False}\n",
    "\n",
    "print(set2)"
   ]
  },
  {
   "cell_type": "code",
   "execution_count": 36,
   "metadata": {},
   "outputs": [
    {
     "name": "stdout",
     "output_type": "stream",
     "text": [
      "{1, 2, 3, 4}\n"
     ]
    }
   ],
   "source": [
    "set3 = {1, 2, 3, 4, 3, 2}\n",
    "print(set3)"
   ]
  },
  {
   "cell_type": "code",
   "execution_count": 37,
   "metadata": {},
   "outputs": [
    {
     "name": "stdout",
     "output_type": "stream",
     "text": [
      "{1, 2, 3}\n",
      "{'and', 'Hello'}\n"
     ]
    }
   ],
   "source": [
    "set4 = set([1, 2, 3, 2])\n",
    "print(set4)\n",
    "set4 = {'Hello', 'Hello', 'and'}\n",
    "# print(id(set4))\n",
    "print(set4)\n"
   ]
  },
  {
   "cell_type": "code",
   "execution_count": null,
   "metadata": {
    "scrolled": false
   },
   "outputs": [],
   "source": [
    "a = 5\n",
    "set5 = {a, 2, (3, 4)}\n",
    "print(set5)"
   ]
  },
  {
   "cell_type": "code",
   "execution_count": 38,
   "metadata": {},
   "outputs": [
    {
     "name": "stdout",
     "output_type": "stream",
     "text": [
      "<class 'dict'>\n",
      "<class 'set'>\n"
     ]
    }
   ],
   "source": [
    "# How to create empty set\n",
    "a = {}\n",
    "print(type(a))\n",
    "a = set()\n",
    "print(type(a))"
   ]
  },
  {
   "cell_type": "code",
   "execution_count": 53,
   "metadata": {},
   "outputs": [
    {
     "ename": "TypeError",
     "evalue": "unhashable type: 'list'",
     "output_type": "error",
     "traceback": [
      "\u001b[1;31m---------------------------------------------------------------------------\u001b[0m",
      "\u001b[1;31mTypeError\u001b[0m                                 Traceback (most recent call last)",
      "\u001b[1;32m<ipython-input-53-81e16556cf8c>\u001b[0m in \u001b[0;36m<module>\u001b[1;34m\u001b[0m\n\u001b[1;32m----> 1\u001b[1;33m \u001b[0ma\u001b[0m \u001b[1;33m=\u001b[0m \u001b[1;33m{\u001b[0m\u001b[1;36m1\u001b[0m\u001b[1;33m,\u001b[0m \u001b[1;36m2\u001b[0m\u001b[1;33m,\u001b[0m \u001b[1;33m[\u001b[0m\u001b[1;36m3\u001b[0m\u001b[1;33m,\u001b[0m \u001b[1;36m4\u001b[0m\u001b[1;33m,\u001b[0m \u001b[1;36m1\u001b[0m\u001b[1;33m]\u001b[0m\u001b[1;33m}\u001b[0m\u001b[1;33m\u001b[0m\u001b[1;33m\u001b[0m\u001b[0m\n\u001b[0m\u001b[0;32m      2\u001b[0m \u001b[0mprint\u001b[0m\u001b[1;33m(\u001b[0m\u001b[0ma\u001b[0m\u001b[1;33m)\u001b[0m\u001b[1;33m\u001b[0m\u001b[1;33m\u001b[0m\u001b[0m\n\u001b[0;32m      3\u001b[0m \u001b[1;31m#a[0]=5\u001b[0m\u001b[1;33m\u001b[0m\u001b[1;33m\u001b[0m\u001b[1;33m\u001b[0m\u001b[0m\n\u001b[0;32m      4\u001b[0m \u001b[1;31m#print(a[0])\u001b[0m\u001b[1;33m\u001b[0m\u001b[1;33m\u001b[0m\u001b[1;33m\u001b[0m\u001b[0m\n\u001b[0;32m      5\u001b[0m \u001b[1;33m\u001b[0m\u001b[0m\n",
      "\u001b[1;31mTypeError\u001b[0m: unhashable type: 'list'"
     ]
    }
   ],
   "source": [
    "a = {1, 2, [3, 4, 1]}\n",
    "print(a)\n",
    "#a[0]=5\n",
    "#print(a[0])\n",
    "\n",
    "# Invoke this\n",
    "\n",
    "a.add(10)\n",
    "print(a)\n",
    "a.remove(1)\n",
    "print(a)"
   ]
  },
  {
   "cell_type": "code",
   "execution_count": 44,
   "metadata": {},
   "outputs": [
    {
     "name": "stdout",
     "output_type": "stream",
     "text": [
      "(1, 2)\n",
      "(1, 2)\n"
     ]
    }
   ],
   "source": [
    "List1 = [1, 2]\n",
    "a = tuple(List1)\n",
    "print(a)\n",
    "List1.append(3)\n",
    "print(a) "
   ]
  },
  {
   "cell_type": "code",
   "execution_count": null,
   "metadata": {},
   "outputs": [],
   "source": [
    "# discard() and remove() two methods Explore these other method on your own"
   ]
  },
  {
   "cell_type": "markdown",
   "metadata": {},
   "source": [
    "### <font color='blue'> Dictionary </font>\n",
    "\n",
    "Python's dictionaries are kind of hash table type. \n",
    "\n",
    "A dictionary key can be almost any Python type, but are usually numbers or strings. Values, on the other hand, can be any arbitrary Python object.\n",
    "\n",
    "You can think of a dictionary as a mapping between a set of indices (which are called keys) and a set of values. Each key maps to a value. The association of a key and a value is called a key-value pair or sometimes an item.\n",
    "\n",
    "Dictionaries are enclosed by curly braces ({ }) and values can be assigned and accessed using square braces ([ ]).\n",
    "\n",
    "#### <font color='blue'> Operations on dictionary: </font>\n",
    "\n",
    "1. Create dictionary\n",
    "2. Insert data\n",
    "3. Delete data\n",
    "4. Update data\n",
    "5. delete dictionary\n"
   ]
  },
  {
   "cell_type": "code",
   "execution_count": 45,
   "metadata": {},
   "outputs": [
    {
     "name": "stdout",
     "output_type": "stream",
     "text": [
      "{1: 'apple', 2: 'ball', 3: 'bat'}\n"
     ]
    }
   ],
   "source": [
    "# dictionary with integer keys\n",
    "dictionary_data = {1:'apple', 2: 'ball',  3: \"bat\"}\n",
    "print(dictionary_data)"
   ]
  },
  {
   "cell_type": "code",
   "execution_count": 49,
   "metadata": {},
   "outputs": [
    {
     "name": "stdout",
     "output_type": "stream",
     "text": [
      "{'name': 'Mangi lal', 1: [2, 4, 3]}\n"
     ]
    },
    {
     "ename": "KeyError",
     "evalue": "'age'",
     "output_type": "error",
     "traceback": [
      "\u001b[1;31m---------------------------------------------------------------------------\u001b[0m",
      "\u001b[1;31mKeyError\u001b[0m                                  Traceback (most recent call last)",
      "\u001b[1;32m<ipython-input-49-390a1485142a>\u001b[0m in \u001b[0;36m<module>\u001b[1;34m\u001b[0m\n\u001b[0;32m      3\u001b[0m \u001b[0mprint\u001b[0m\u001b[1;33m(\u001b[0m\u001b[0mdictionary_data\u001b[0m\u001b[1;33m)\u001b[0m\u001b[1;33m\u001b[0m\u001b[1;33m\u001b[0m\u001b[0m\n\u001b[0;32m      4\u001b[0m \u001b[1;33m\u001b[0m\u001b[0m\n\u001b[1;32m----> 5\u001b[1;33m \u001b[0mprint\u001b[0m\u001b[1;33m(\u001b[0m\u001b[0mdictionary_data\u001b[0m\u001b[1;33m[\u001b[0m\u001b[1;34m'age'\u001b[0m\u001b[1;33m]\u001b[0m\u001b[1;33m)\u001b[0m\u001b[1;33m\u001b[0m\u001b[1;33m\u001b[0m\u001b[0m\n\u001b[0m\u001b[0;32m      6\u001b[0m \u001b[1;33m\u001b[0m\u001b[0m\n\u001b[0;32m      7\u001b[0m \u001b[1;31m# Output: 26\u001b[0m\u001b[1;33m\u001b[0m\u001b[1;33m\u001b[0m\u001b[1;33m\u001b[0m\u001b[0m\n",
      "\u001b[1;31mKeyError\u001b[0m: 'age'"
     ]
    }
   ],
   "source": [
    "# dictionary with mixed keys\n",
    "dictionary_data = {'name': 'Mangi lal', 1: [2, 4, 3]}\n",
    "print(dictionary_data)\n",
    "\n",
    "print(dictionary_data['age'])\n",
    "\n",
    "# Output: 26\n",
    "\n",
    "print(dictionary_data.get('age'))\n",
    "\n",
    "#print(dictionary_data['age']) # -> Generates an error"
   ]
  },
  {
   "cell_type": "code",
   "execution_count": 51,
   "metadata": {},
   "outputs": [
    {
     "name": "stdout",
     "output_type": "stream",
     "text": [
      "{'name': 'Mangilal', 'age': 27, 'address': 'Bengaluru'}\n",
      "dict_keys(['name', 'age', 'address'])\n",
      "dict_values(['Mangilal', 27, 'Bengaluru'])\n",
      "3\n",
      "name:Mangilal\n",
      "age:59\n",
      "address:Bengaluru\n"
     ]
    }
   ],
   "source": [
    "dictionary_data = {'name': 'Mangilal'}\n",
    "\n",
    "dictionary_data1 ={'key1':'value1', 'key2':'value2'}\n",
    "\n",
    "# update value\n",
    "\n",
    "dictionary_data['age'] = 27\n",
    "\n",
    "#Output: {'age': 27, 'name': 'Mangilal'}\n",
    "#print(dictionary_data)\n",
    "\n",
    "# add item\n",
    "dictionary_data['address'] = 'Bengaluru'\n",
    "\n",
    "print(dictionary_data)\n",
    "\n",
    "dictionary_data1.update({'key3':'value3'}) \n",
    "#print(dictionary_data1)\n",
    "\n",
    "print(dictionary_data.keys())\n",
    "print(dictionary_data.values())\n",
    "\n",
    "print(len(dictionary_data))\n",
    "\n",
    "for i in dictionary_data.keys():\n",
    "    if i == 'age':\n",
    "        dictionary_data[i] = 59\n",
    "    print(i + ':' + str(dictionary_data[i]))"
   ]
  },
  {
   "cell_type": "code",
   "execution_count": null,
   "metadata": {},
   "outputs": [],
   "source": [
    "print(dictionary_data.pop('address'))"
   ]
  },
  {
   "cell_type": "code",
   "execution_count": null,
   "metadata": {
    "scrolled": true
   },
   "outputs": [],
   "source": [
    "dictionary_data.clear()\n",
    "print(dictionary_data)\n",
    "\n",
    "del dictionary_data\n",
    "\n",
    "print(dictionary_data)\n",
    "\n",
    "# clearing and deleting the dictionary is different"
   ]
  },
  {
   "cell_type": "code",
   "execution_count": 73,
   "metadata": {},
   "outputs": [
    {
     "name": "stdout",
     "output_type": "stream",
     "text": [
      "(1, 2, [1, 2, 3])\n",
      "<class 'tuple'>\n"
     ]
    }
   ],
   "source": [
    "tuple1 = (1, 2, [1, 2, 3])\n",
    "print(tuple1)\n",
    "print(type(tuple1))"
   ]
  },
  {
   "cell_type": "markdown",
   "metadata": {},
   "source": [
    "Declare a list of size n. Accept n numbers from user and save it in the list. Check if each number inserted by user is prime or no. Print True if prime, False otherwise. "
   ]
  },
  {
   "cell_type": "markdown",
   "metadata": {},
   "source": [
    "## <font color='blue'> Functions in Python </font>\n",
    "\n",
    "A function is a block of organized, reusable code that is used to perform some action. \n",
    "\n",
    "Functions provide better modularity for your application and a high degree of code reusing.\n",
    "\n",
    "As you already know, Python gives you many built-in functions like ```print()```, `input()` , `super()`, `range()` etc. \n",
    "\n",
    "You can also create your own functions. These functions are called ```user-defined functions```.\n",
    "\n",
    "\n",
    "* Function blocks begin with the keyword def followed by the function name and parentheses ( ( ) ).\n",
    "\n",
    "* Any input parameters or arguments should be placed within these parentheses. You can also define parameters inside these parentheses. These parameters are optional in nature. It depends on the use case whether you want to have parantheses or not.\n",
    "\n",
    "* The code block within every function starts with a colon (:) and is indented.\n",
    "\n",
    "* The statement return exits a function, optionally passing back an expression to the caller. A return statement with no arguments is the same as return None. Python function always return something. \n",
    "\n",
    "\n",
    "### <font color='blue'> Syntax  </font>"
   ]
  },
  {
   "cell_type": "code",
   "execution_count": null,
   "metadata": {
    "run_control": {
     "marked": false
    }
   },
   "outputs": [],
   "source": [
    "def foo():\n",
    "    \n",
    "    code\n",
    "    code\n",
    "    code\n",
    "    while ():\n",
    "        code10\n",
    "\n",
    "code1\n",
    "code1\n",
    "code1\n",
    "foo()\n",
    "code2\n",
    "code2\n",
    "code2\n",
    "foo\n",
    "code3\n"
   ]
  },
  {
   "cell_type": "code",
   "execution_count": null,
   "metadata": {},
   "outputs": [],
   "source": [
    "def functionname( parameters ):\n",
    "    # \"mention the detail what this function will do\"\n",
    "    function_suite\n",
    "    return something"
   ]
  },
  {
   "attachments": {
    "python-how-function-works_1.jpg": {
     "image/jpeg": "[encoded data removed]"
    }
   },
   "cell_type": "markdown",
   "metadata": {},
   "source": [
    "![python-how-function-works_1.jpg](attachment:python-how-function-works_1.jpg)"
   ]
  },
  {
   "cell_type": "code",
   "execution_count": 56,
   "metadata": {
    "run_control": {
     "marked": false
    }
   },
   "outputs": [
    {
     "name": "stdout",
     "output_type": "stream",
     "text": [
      "-30\n"
     ]
    }
   ],
   "source": [
    "# Example: Write a function to add two numbers without arguments/parameter\n",
    "\n",
    "# Function definition is here\n",
    "def addint():\n",
    "    a = -10\n",
    "    b = -20\n",
    "    c = a+b\n",
    "    return c\n",
    "\n",
    "# call the main function\n",
    "\n",
    "z = addint()\n",
    "print(z)\n"
   ]
  },
  {
   "cell_type": "code",
   "execution_count": 64,
   "metadata": {
    "scrolled": true
   },
   "outputs": [
    {
     "name": "stdout",
     "output_type": "stream",
     "text": [
      "None\n"
     ]
    }
   ],
   "source": [
    "# Example: Write a program to add two numbers with arguments\n",
    "\n",
    "def addint(a, b):\n",
    "    c = a+b\n",
    "\n",
    "# call the main function\n",
    "p = 10\n",
    "q = 1\n",
    "z = addint(p, q)\n",
    "print(z)"
   ]
  },
  {
   "cell_type": "markdown",
   "metadata": {},
   "source": [
    "\n",
    "#### <font color='blue'> Excercise  </font>\n",
    "\n",
    "# Write a python function to implement factorial\n"
   ]
  },
  {
   "cell_type": "code",
   "execution_count": null,
   "metadata": {},
   "outputs": [],
   "source": [
    "product = 5 * 4 * 3 * 2 * 1\n",
    "sum1 = 5+4+3+2+1"
   ]
  },
  {
   "cell_type": "code",
   "execution_count": 68,
   "metadata": {},
   "outputs": [
    {
     "name": "stdout",
     "output_type": "stream",
     "text": [
      "120\n"
     ]
    }
   ],
   "source": [
    "def calcFactorial(num):\n",
    "    if num <= 1:\n",
    "        return 0\n",
    "    fact = 1\n",
    "    i = 1\n",
    "    while(i <= num):\n",
    "        fact = fact * i\n",
    "        i = i+1\n",
    "    return fact\n",
    "\n",
    "print(calcFactorial(5))"
   ]
  },
  {
   "cell_type": "markdown",
   "metadata": {},
   "source": [
    "# Write a function to find minimum number in the given list. "
   ]
  },
  {
   "cell_type": "code",
   "execution_count": 71,
   "metadata": {},
   "outputs": [
    {
     "name": "stdout",
     "output_type": "stream",
     "text": [
      "10\n"
     ]
    }
   ],
   "source": [
    "def minimum(input_list):\n",
    "    \n",
    "    res = input_list[0]\n",
    "    \n",
    "    for element in range(1, len(input_list)):\n",
    "        if input_list[element] < res:\n",
    "            res = input_list[element]\n",
    "            \n",
    "    return res\n",
    "\n",
    "print(minimum([10, 2, 3, 1, -2, -999]))"
   ]
  },
  {
   "cell_type": "code",
   "execution_count": null,
   "metadata": {},
   "outputs": [],
   "source": [
    "def findMin (list1):\n",
    "    i = 0\n",
    "    min = 9999\n",
    "    while (i < len (list1)):\n",
    "        if list[i] < min:\n",
    "            min = list1[i]\n",
    "        i = i+1\n",
    "    return min\n",
    "\n",
    "list1 = [4,3,5,6,7,8,4,3,2]\n",
    "minNum = findMin (list1)\n"
   ]
  },
  {
   "cell_type": "markdown",
   "metadata": {},
   "source": [
    "\n",
    "#### <font color='blue'> Excercise  </font>\n",
    "\n",
    "# Passing variable number of arguments in python?\n"
   ]
  },
  {
   "cell_type": "markdown",
   "metadata": {},
   "source": [
    "### <font color='blue'> Global variable  </font>"
   ]
  },
  {
   "cell_type": "code",
   "execution_count": null,
   "metadata": {},
   "outputs": [],
   "source": [
    "x = \"Cool\"\n",
    "\n",
    "def myfunc():\n",
    "    x = \"amazing\"\n",
    "    print(\"Python is \" + x)\n",
    "\n",
    "myfunc()\n",
    "\n",
    "print(\"Python is \" + x)"
   ]
  },
  {
   "cell_type": "code",
   "execution_count": null,
   "metadata": {},
   "outputs": [],
   "source": [
    "x = \"Cool\"\n",
    "\n",
    "def myfunc():\n",
    "    global x\n",
    "    x = \"amazing\"\n",
    "\n",
    "myfunc()\n",
    "\n",
    "print(\"Python is \" + x)"
   ]
  },
  {
   "cell_type": "markdown",
   "metadata": {},
   "source": [
    "### <font color='blue'> Recursion </font>\n",
    "\n",
    "In Python, we know that a function can call other functions. \n",
    "\n",
    "It is even possible for the function to call itself. These types of construct are termed as recursive functions.\n",
    "\n",
    "The following image shows the working of a recursive function called recurse."
   ]
  },
  {
   "attachments": {
    "python-recursion-function.png": {
     "image/png": "[encoded data removed]"
    }
   },
   "cell_type": "markdown",
   "metadata": {},
   "source": [
    "![python-recursion-function.png](attachment:python-recursion-function.png)"
   ]
  },
  {
   "cell_type": "code",
   "execution_count": null,
   "metadata": {},
   "outputs": [],
   "source": [
    "def Fibonacci(n): \n",
    "    if n<0: \n",
    "        print(\"Incorrect input\") \n",
    "        return \n",
    "    elif n == 0 or n == 1: \n",
    "        return n\n",
    "    else: \n",
    "        return Fibonacci(n-1) + Fibonacci(n-2) \n",
    "    \n",
    "\n",
    "n = int(input(\"Enter the the term for which you want to see for this fibonacci series starting with 0 and 1: \"))\n",
    "\n",
    "print(Fibonacci(n)) "
   ]
  },
  {
   "cell_type": "markdown",
   "metadata": {},
   "source": [
    "# Write a function that determines if a string is a palindrome. (Solve it using recursion)"
   ]
  },
  {
   "cell_type": "markdown",
   "metadata": {},
   "source": [
    "# Create a function that takes a list of numbers between 1 and n (excluding one number) and returns the missing number. List can be unsorted in nature."
   ]
  },
  {
   "cell_type": "code",
   "execution_count": null,
   "metadata": {},
   "outputs": [],
   "source": [
    "# [5, 2, 4, 6, 1, -] 1+2+3+4+5 = 15\n",
    "# new_list[num_list[i]-1] = num_list[i]\n",
    "# new_list[4] = 5\n",
    "# [1, 2, 0, 4, 5, 6]\n",
    "\n",
    "def foo(num_list):\n",
    "    sum_list = 0\n",
    "    for i in range(len(num_list)):\n",
    "         sum_list += num_list[i]\n",
    "    n = len(num_list)\n",
    "    sum_new = (n* (n+1))/2\n",
    "    return int(sum_new-sum_list)\n",
    "    \n",
    "n = int(input(\"Enter the value of n: \"))\n",
    "list1 = [0]*n\n",
    "for i in range(n):\n",
    "    list1[i] = int(input(\"Enter data: \"))\n",
    "\n",
    "print(foo(list1))"
   ]
  },
  {
   "cell_type": "markdown",
   "metadata": {},
   "source": [
    "# <font color='blue'> References </font>\n",
    "\n",
    "1. https://medium.com/better-programming/a-complete-guide-to-the-python-range-function-d59d5209b14\n",
    "2. https://miro.medium.com/max/322/0*WVZulfPtIaWaGaN9.jpg\n",
    "3. https://www.programiz.com/python-programming/recursion\n",
    "4. https://docs.oracle.com/cd/B19306_01/appdev.102/b14261/controlstructures.htm\n",
    "5. https://medium.com/fintechexplained/advanced-python-how-to-implement-caching-in-python-application-9d0a4136b845\n",
    "6. https://towardsdatascience.com/building-a-production-level-etl-pipeline-platform-using-apache-airflow-a4cf34203fbd\n"
   ]
  }
 ],
 "metadata": {
  "kernelspec": {
   "display_name": "Python 3",
   "language": "python",
   "name": "python3"
  },
  "language_info": {
   "codemirror_mode": {
    "name": "ipython",
    "version": 3
   },
   "file_extension": ".py",
   "mimetype": "text/x-python",
   "name": "python",
   "nbconvert_exporter": "python",
   "pygments_lexer": "ipython3",
   "version": "3.8.8"
  }
 },
 "nbformat": 4,
 "nbformat_minor": 4
}
